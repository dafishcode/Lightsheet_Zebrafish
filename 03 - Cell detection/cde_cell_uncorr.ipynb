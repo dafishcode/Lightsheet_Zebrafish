{
 "cells": [
  {
   "cell_type": "code",
   "execution_count": 1,
   "metadata": {},
   "outputs": [
    {
     "name": "stderr",
     "output_type": "stream",
     "text": [
      "/Users/roschkoenig/anaconda3/lib/python3.6/site-packages/scipy/ndimage/morphology.py:114: FutureWarning: Using a non-tuple sequence for multidimensional indexing is deprecated; use `arr[tuple(seq)]` instead of `arr[seq]`. In the future this will be interpreted as an array index, `arr[np.array(seq)]`, which will result either in an error or a different result.\n",
      "  out[slc] = structure != 0\n"
     ]
    }
   ],
   "source": [
    "################################################################################\n",
    "## Code adapted from demo_caiman_cnmf_3D as imported from github 21/11/2018\n",
    "## https://github.com/flatironinstitute/CaImAn\n",
    "################################################################################\n",
    "\n",
    "import cde_cell_functions as cc\n",
    "\n",
    "# Import relevant packages\n",
    "#===============================================================================\n",
    "import logging\n",
    "import matplotlib.pyplot as plt\n",
    "import numpy as np\n",
    "import os\n",
    "import psutil\n",
    "import shutil\n",
    "from scipy.ndimage.filters import gaussian_filter\n",
    "import scipy.sparse\n",
    "import sys\n",
    "import re\n",
    "from skimage.external.tifffile import imread\n",
    "from skimage import io\n",
    "import warnings \n",
    "\n",
    "# Caiman setup\n",
    "#-------------------------------------------------------------------------------\n",
    "import caiman as cm\n",
    "import caiman.source_extraction.cnmf as cnmf\n",
    "from caiman.utils.visualization import nb_view_patches3d\n",
    "from caiman.source_extraction.cnmf import params as params\n",
    "from caiman.components_evaluation import evaluate_components, estimate_components_quality_auto\n",
    "from caiman.motion_correction import MotionCorrect\n",
    "from caiman.cluster import setup_cluster\n",
    "from caiman.paths import caiman_datadir\n",
    "from caiman.utils.visualization import inspect_correlation_pnr\n",
    "\n",
    "# Jupyter specific autoreloading for external functions (in case changes are made)\n",
    "%load_ext autoreload\n",
    "%autoreload 2"
   ]
  },
  {
   "cell_type": "code",
   "execution_count": null,
   "metadata": {},
   "outputs": [],
   "source": []
  },
  {
   "cell_type": "code",
   "execution_count": 2,
   "metadata": {},
   "outputs": [],
   "source": [
    "# Housekeeping\n",
    "#===============================================================================\n",
    "# Module flags\n",
    "\n",
    "display_movie   = False      # play movie of tifs that are loaded\n",
    "save_results    = False      # flag to save results or not\n",
    "\n",
    "# Define folder locations\n",
    "#-------------------------------------------------------------------------------\n",
    "Fbase     = '/Users/roschkoenig/Dropbox/Research/1812 Critical Dynamics Epilepsy'\n",
    "Fscripts  = Fbase + os.sep + '03 - Cell detection' \n",
    "Fdata     = '/Volumes/GoogleDrive/My Drive/Research/1809 Seizure criticality/Data'\n",
    "Zfish     = cc.cde_cell_fishspec(Fdata)"
   ]
  },
  {
   "cell_type": "code",
   "execution_count": null,
   "metadata": {},
   "outputs": [],
   "source": []
  },
  {
   "cell_type": "code",
   "execution_count": null,
   "metadata": {},
   "outputs": [],
   "source": []
  }
 ],
 "metadata": {
  "kernelspec": {
   "display_name": "Python 3",
   "language": "python",
   "name": "python3"
  },
  "language_info": {
   "codemirror_mode": {
    "name": "ipython",
    "version": 3
   },
   "file_extension": ".py",
   "mimetype": "text/x-python",
   "name": "python",
   "nbconvert_exporter": "python",
   "pygments_lexer": "ipython3",
   "version": "3.6.8"
  }
 },
 "nbformat": 4,
 "nbformat_minor": 2
}
