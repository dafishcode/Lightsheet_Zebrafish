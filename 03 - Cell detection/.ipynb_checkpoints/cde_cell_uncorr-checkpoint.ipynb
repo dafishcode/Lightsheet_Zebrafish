{
 "cells": [
  {
   "cell_type": "code",
   "execution_count": 1,
   "metadata": {},
   "outputs": [],
   "source": [
    "################################################################################\n",
    "## Code adapted from demo_caiman_cnmf_3D as imported from github 21/11/2018\n",
    "## https://github.com/flatironinstitute/CaImAn\n",
    "################################################################################\n",
    "\n",
    "import cde_cell_functions as cc\n",
    "\n",
    "# Import relevant packages\n",
    "#===============================================================================\n",
    "import imp\n",
    "import logging\n",
    "import matplotlib.pyplot as plt\n",
    "import numpy as np\n",
    "import os\n",
    "import psutil\n",
    "import shutil\n",
    "from scipy.ndimage.filters import gaussian_filter\n",
    "import scipy.sparse\n",
    "import sys\n",
    "import re\n",
    "from skimage.external.tifffile import imread\n",
    "from skimage import io\n",
    "import warnings \n",
    "from IPython.display import clear_output\n",
    "import copy\n",
    "from importlib import reload\n",
    "from PIL import Image\n",
    "import datetime\n",
    "\n",
    "# Caiman setup\n",
    "#-------------------------------------------------------------------------------\n",
    "import caiman as cm\n",
    "import caiman.source_extraction.cnmf as cnmf\n",
    "from caiman.utils.visualization import nb_view_patches3d\n",
    "from caiman.source_extraction.cnmf import params as params\n",
    "from caiman.components_evaluation import evaluate_components, estimate_components_quality_auto\n",
    "from caiman.motion_correction import MotionCorrect\n",
    "from caiman.cluster import setup_cluster\n",
    "from caiman.paths import caiman_datadir\n",
    "from caiman.utils.visualization import inspect_correlation_pnr\n",
    "\n",
    "# Jupyter specific autoreloading for external functions (in case changes are made)\n",
    "# %load_ext autoreload\n",
    "# %autoreload"
   ]
  },
  {
   "cell_type": "code",
   "execution_count": 2,
   "metadata": {},
   "outputs": [],
   "source": [
    "# Housekeeping\n",
    "#===============================================================================\n",
    "# Module flags\n",
    "\n",
    "display_movie   = False      # play movie of tifs that are loaded\n",
    "save_results    = False      # flag to save results or not\n",
    "\n",
    "# Define folder locations\n",
    "#-------------------------------------------------------------------------------\n",
    "reload(cc)\n",
    "Fbase     = '/Users/roschkoenig/Dropbox/Research/1812 Critical Dynamics Epilepsy'\n",
    "Fsave     = '/Users/roschkoenig/Dropbox/Research/1812 Critical Dynamics Epilepsy Data'\n",
    "Fscripts  = Fbase + os.sep + '03 - Cell detection' \n",
    "Fdata     = '/Volumes/MARIANNE/1812 Critical Dynamics in Epilepsy'\n",
    "Zfish     = cc.cde_cell_fishspec(Fdata, 'RM')"
   ]
  },
  {
   "cell_type": "code",
   "execution_count": 9,
   "metadata": {},
   "outputs": [],
   "source": [
    "imp.reload(cc),  \n",
    "Pfish = cc.cde_cell_fishspec(Fdata, 'PL')\n"
   ]
  },
  {
   "cell_type": "code",
   "execution_count": 16,
   "metadata": {},
   "outputs": [
    {
     "name": "stdout",
     "output_type": "stream",
     "text": [
      "-----------------------------------------------------------------------\n",
      "Currently processing condition BL\n",
      "> Plane 1 of 9\n",
      "-----------------------------------------------------------------------\n",
      "Size frame:(298, 451)\n",
      "Noise Normalization\n",
      "Roi Extraction...\n",
      "Greedy initialization of spatial and temporal components using spatial Gaussian filtering\n",
      "USING TOTAL SUM FOR INITIALIZATION....\n"
     ]
    },
    {
     "ename": "KeyboardInterrupt",
     "evalue": "",
     "output_type": "error",
     "traceback": [
      "\u001b[0;31m---------------------------------------------------------------------------\u001b[0m",
      "\u001b[0;31mKeyboardInterrupt\u001b[0m                         Traceback (most recent call last)",
      "\u001b[0;32m<ipython-input-16-19e4eed9aeaf>\u001b[0m in \u001b[0;36m<module>\u001b[0;34m()\u001b[0m\n\u001b[1;32m     56\u001b[0m             \u001b[0mprint\u001b[0m\u001b[0;34m(\u001b[0m\u001b[0;34m'-----------------------------------------------------------------------'\u001b[0m\u001b[0;34m)\u001b[0m\u001b[0;34m\u001b[0m\u001b[0;34m\u001b[0m\u001b[0m\n\u001b[1;32m     57\u001b[0m             \u001b[0mcmn\u001b[0m  \u001b[0;34m=\u001b[0m \u001b[0mcnmf\u001b[0m\u001b[0;34m.\u001b[0m\u001b[0monline_cnmf\u001b[0m\u001b[0;34m.\u001b[0m\u001b[0mOnACID\u001b[0m\u001b[0;34m(\u001b[0m\u001b[0mparams\u001b[0m\u001b[0;34m=\u001b[0m\u001b[0mopts\u001b[0m\u001b[0;34m)\u001b[0m\u001b[0;34m\u001b[0m\u001b[0;34m\u001b[0m\u001b[0m\n\u001b[0;32m---> 58\u001b[0;31m             \u001b[0mcmn\u001b[0m\u001b[0;34m.\u001b[0m\u001b[0mfit_online\u001b[0m\u001b[0;34m(\u001b[0m\u001b[0;34m)\u001b[0m\u001b[0;34m\u001b[0m\u001b[0;34m\u001b[0m\u001b[0m\n\u001b[0m\u001b[1;32m     59\u001b[0m             \u001b[0mEstimates\u001b[0m\u001b[0;34m.\u001b[0m\u001b[0mappend\u001b[0m\u001b[0;34m(\u001b[0m\u001b[0;34m{\u001b[0m\u001b[0;34m'Spatial'\u001b[0m\u001b[0;34m:\u001b[0m\u001b[0mcmn\u001b[0m\u001b[0;34m.\u001b[0m\u001b[0mestimates\u001b[0m\u001b[0;34m.\u001b[0m\u001b[0mA\u001b[0m\u001b[0;34m,\u001b[0m\u001b[0;34m'Temporal'\u001b[0m\u001b[0;34m:\u001b[0m\u001b[0mcmn\u001b[0m\u001b[0;34m.\u001b[0m\u001b[0mestimates\u001b[0m\u001b[0;34m.\u001b[0m\u001b[0mC\u001b[0m\u001b[0;34m,\u001b[0m\u001b[0;34m'Background'\u001b[0m\u001b[0;34m:\u001b[0m\u001b[0mcmn\u001b[0m\u001b[0;34m.\u001b[0m\u001b[0mestimates\u001b[0m\u001b[0;34m.\u001b[0m\u001b[0mb\u001b[0m\u001b[0;34m}\u001b[0m\u001b[0;34m)\u001b[0m\u001b[0;34m\u001b[0m\u001b[0;34m\u001b[0m\u001b[0m\n\u001b[1;32m     60\u001b[0m \u001b[0;34m\u001b[0m\u001b[0m\n",
      "\u001b[0;32m/Users/roschkoenig/anaconda3/lib/python3.6/site-packages/caiman/source_extraction/cnmf/online_cnmf.py\u001b[0m in \u001b[0;36mfit_online\u001b[0;34m(self, **kwargs)\u001b[0m\n\u001b[1;32m    690\u001b[0m         \u001b[0minit_batch\u001b[0m \u001b[0;34m=\u001b[0m \u001b[0mself\u001b[0m\u001b[0;34m.\u001b[0m\u001b[0mparams\u001b[0m\u001b[0;34m.\u001b[0m\u001b[0mget\u001b[0m\u001b[0;34m(\u001b[0m\u001b[0;34m'online'\u001b[0m\u001b[0;34m,\u001b[0m \u001b[0;34m'init_batch'\u001b[0m\u001b[0;34m)\u001b[0m\u001b[0;34m\u001b[0m\u001b[0;34m\u001b[0m\u001b[0m\n\u001b[1;32m    691\u001b[0m         \u001b[0mepochs\u001b[0m \u001b[0;34m=\u001b[0m \u001b[0mself\u001b[0m\u001b[0;34m.\u001b[0m\u001b[0mparams\u001b[0m\u001b[0;34m.\u001b[0m\u001b[0mget\u001b[0m\u001b[0;34m(\u001b[0m\u001b[0;34m'online'\u001b[0m\u001b[0;34m,\u001b[0m \u001b[0;34m'epochs'\u001b[0m\u001b[0;34m)\u001b[0m\u001b[0;34m\u001b[0m\u001b[0;34m\u001b[0m\u001b[0m\n\u001b[0;32m--> 692\u001b[0;31m         \u001b[0mself\u001b[0m\u001b[0;34m.\u001b[0m\u001b[0minitialize_online\u001b[0m\u001b[0;34m(\u001b[0m\u001b[0;34m)\u001b[0m\u001b[0;34m\u001b[0m\u001b[0;34m\u001b[0m\u001b[0m\n\u001b[0m\u001b[1;32m    693\u001b[0m         \u001b[0mextra_files\u001b[0m \u001b[0;34m=\u001b[0m \u001b[0mlen\u001b[0m\u001b[0;34m(\u001b[0m\u001b[0mfls\u001b[0m\u001b[0;34m)\u001b[0m \u001b[0;34m-\u001b[0m \u001b[0;36m1\u001b[0m\u001b[0;34m\u001b[0m\u001b[0;34m\u001b[0m\u001b[0m\n\u001b[1;32m    694\u001b[0m         \u001b[0minit_files\u001b[0m \u001b[0;34m=\u001b[0m \u001b[0;36m1\u001b[0m\u001b[0;34m\u001b[0m\u001b[0;34m\u001b[0m\u001b[0m\n",
      "\u001b[0;32m/Users/roschkoenig/anaconda3/lib/python3.6/site-packages/caiman/source_extraction/cnmf/online_cnmf.py\u001b[0m in \u001b[0;36minitialize_online\u001b[0;34m(self)\u001b[0m\n\u001b[1;32m    584\u001b[0m             self.estimates.A, self.estimates.b, self.estimates.C, self.estimates.f, self.estimates.YrA = bare_initialization(\n\u001b[1;32m    585\u001b[0m                     \u001b[0mY\u001b[0m\u001b[0;34m.\u001b[0m\u001b[0mtranspose\u001b[0m\u001b[0;34m(\u001b[0m\u001b[0;36m1\u001b[0m\u001b[0;34m,\u001b[0m \u001b[0;36m2\u001b[0m\u001b[0;34m,\u001b[0m \u001b[0;36m0\u001b[0m\u001b[0;34m)\u001b[0m\u001b[0;34m,\u001b[0m \u001b[0mgnb\u001b[0m\u001b[0;34m=\u001b[0m\u001b[0mself\u001b[0m\u001b[0;34m.\u001b[0m\u001b[0mparams\u001b[0m\u001b[0;34m.\u001b[0m\u001b[0mget\u001b[0m\u001b[0;34m(\u001b[0m\u001b[0;34m'init'\u001b[0m\u001b[0;34m,\u001b[0m \u001b[0;34m'nb'\u001b[0m\u001b[0;34m)\u001b[0m\u001b[0;34m,\u001b[0m \u001b[0mk\u001b[0m\u001b[0;34m=\u001b[0m\u001b[0mself\u001b[0m\u001b[0;34m.\u001b[0m\u001b[0mparams\u001b[0m\u001b[0;34m.\u001b[0m\u001b[0mget\u001b[0m\u001b[0;34m(\u001b[0m\u001b[0;34m'init'\u001b[0m\u001b[0;34m,\u001b[0m \u001b[0;34m'K'\u001b[0m\u001b[0;34m)\u001b[0m\u001b[0;34m,\u001b[0m\u001b[0;34m\u001b[0m\u001b[0;34m\u001b[0m\u001b[0m\n\u001b[0;32m--> 586\u001b[0;31m                     gSig=self.params.get('init', 'gSig'), return_object=False)\n\u001b[0m\u001b[1;32m    587\u001b[0m             \u001b[0mself\u001b[0m\u001b[0;34m.\u001b[0m\u001b[0mestimates\u001b[0m\u001b[0;34m.\u001b[0m\u001b[0mS\u001b[0m \u001b[0;34m=\u001b[0m \u001b[0mnp\u001b[0m\u001b[0;34m.\u001b[0m\u001b[0mzeros_like\u001b[0m\u001b[0;34m(\u001b[0m\u001b[0mself\u001b[0m\u001b[0;34m.\u001b[0m\u001b[0mestimates\u001b[0m\u001b[0;34m.\u001b[0m\u001b[0mC\u001b[0m\u001b[0;34m)\u001b[0m\u001b[0;34m\u001b[0m\u001b[0;34m\u001b[0m\u001b[0m\n\u001b[1;32m    588\u001b[0m             \u001b[0mnr\u001b[0m \u001b[0;34m=\u001b[0m \u001b[0mself\u001b[0m\u001b[0;34m.\u001b[0m\u001b[0mestimates\u001b[0m\u001b[0;34m.\u001b[0m\u001b[0mC\u001b[0m\u001b[0;34m.\u001b[0m\u001b[0mshape\u001b[0m\u001b[0;34m[\u001b[0m\u001b[0;36m0\u001b[0m\u001b[0;34m]\u001b[0m\u001b[0;34m\u001b[0m\u001b[0;34m\u001b[0m\u001b[0m\n",
      "\u001b[0;32m/Users/roschkoenig/anaconda3/lib/python3.6/site-packages/caiman/source_extraction/cnmf/online_cnmf.py\u001b[0m in \u001b[0;36mbare_initialization\u001b[0;34m(Y, init_batch, k, method_init, gnb, gSig, motion_flag, p, return_object, **kwargs)\u001b[0m\n\u001b[1;32m    894\u001b[0m \u001b[0;34m\u001b[0m\u001b[0m\n\u001b[1;32m    895\u001b[0m     Ain, Cin, b_in, f_in, center = initialize_components(\n\u001b[0;32m--> 896\u001b[0;31m         Y, K=k, gSig=gSig, nb=gnb, method_init=method_init)\n\u001b[0m\u001b[1;32m    897\u001b[0m     \u001b[0mAin\u001b[0m \u001b[0;34m=\u001b[0m \u001b[0mcoo_matrix\u001b[0m\u001b[0;34m(\u001b[0m\u001b[0mAin\u001b[0m\u001b[0;34m)\u001b[0m\u001b[0;34m\u001b[0m\u001b[0;34m\u001b[0m\u001b[0m\n\u001b[1;32m    898\u001b[0m     \u001b[0mb_in\u001b[0m \u001b[0;34m=\u001b[0m \u001b[0mnp\u001b[0m\u001b[0;34m.\u001b[0m\u001b[0marray\u001b[0m\u001b[0;34m(\u001b[0m\u001b[0mb_in\u001b[0m\u001b[0;34m)\u001b[0m\u001b[0;34m\u001b[0m\u001b[0;34m\u001b[0m\u001b[0m\n",
      "\u001b[0;32m/Users/roschkoenig/anaconda3/lib/python3.6/site-packages/caiman/source_extraction/cnmf/initialization.py\u001b[0m in \u001b[0;36minitialize_components\u001b[0;34m(Y, K, gSig, gSiz, ssub, tsub, nIter, maxIter, nb, kernel, use_hals, normalize_init, img, method_init, max_iter_snmf, alpha_snmf, sigma_smooth_snmf, perc_baseline_snmf, options_local_NMF, rolling_sum, rolling_length, sn, options_total, min_corr, min_pnr, ring_size_factor, center_psf, ssub_B, init_iter, remove_baseline)\u001b[0m\n\u001b[1;32m    301\u001b[0m         Ain, Cin, _, b_in, f_in = greedyROI(\n\u001b[1;32m    302\u001b[0m             \u001b[0mY_ds\u001b[0m\u001b[0;34m,\u001b[0m \u001b[0mnr\u001b[0m\u001b[0;34m=\u001b[0m\u001b[0mK\u001b[0m\u001b[0;34m,\u001b[0m \u001b[0mgSig\u001b[0m\u001b[0;34m=\u001b[0m\u001b[0mgSig\u001b[0m\u001b[0;34m,\u001b[0m \u001b[0mgSiz\u001b[0m\u001b[0;34m=\u001b[0m\u001b[0mgSiz\u001b[0m\u001b[0;34m,\u001b[0m \u001b[0mnIter\u001b[0m\u001b[0;34m=\u001b[0m\u001b[0mnIter\u001b[0m\u001b[0;34m,\u001b[0m \u001b[0mkernel\u001b[0m\u001b[0;34m=\u001b[0m\u001b[0mkernel\u001b[0m\u001b[0;34m,\u001b[0m \u001b[0mnb\u001b[0m\u001b[0;34m=\u001b[0m\u001b[0mnb\u001b[0m\u001b[0;34m,\u001b[0m\u001b[0;34m\u001b[0m\u001b[0;34m\u001b[0m\u001b[0m\n\u001b[0;32m--> 303\u001b[0;31m             rolling_sum=rolling_sum, rolling_length=rolling_length)\n\u001b[0m\u001b[1;32m    304\u001b[0m \u001b[0;34m\u001b[0m\u001b[0m\n\u001b[1;32m    305\u001b[0m         \u001b[0;32mif\u001b[0m \u001b[0muse_hals\u001b[0m\u001b[0;34m:\u001b[0m\u001b[0;34m\u001b[0m\u001b[0;34m\u001b[0m\u001b[0m\n",
      "\u001b[0;32m/Users/roschkoenig/anaconda3/lib/python3.6/site-packages/caiman/source_extraction/cnmf/initialization.py\u001b[0m in \u001b[0;36mgreedyROI\u001b[0;34m(Y, nr, gSig, gSiz, nIter, kernel, nb, rolling_sum, rolling_length)\u001b[0m\n\u001b[1;32m    672\u001b[0m \u001b[0;31m#    model = NMF(n_components=nb, init='random', random_state=0)\u001b[0m\u001b[0;34m\u001b[0m\u001b[0;34m\u001b[0m\u001b[0;34m\u001b[0m\u001b[0m\n\u001b[1;32m    673\u001b[0m     \u001b[0mmodel\u001b[0m \u001b[0;34m=\u001b[0m \u001b[0mNMF\u001b[0m\u001b[0;34m(\u001b[0m\u001b[0mn_components\u001b[0m\u001b[0;34m=\u001b[0m\u001b[0mnb\u001b[0m\u001b[0;34m,\u001b[0m \u001b[0minit\u001b[0m\u001b[0;34m=\u001b[0m\u001b[0;34m'nndsvdar'\u001b[0m\u001b[0;34m)\u001b[0m\u001b[0;34m\u001b[0m\u001b[0;34m\u001b[0m\u001b[0m\n\u001b[0;32m--> 674\u001b[0;31m     \u001b[0mb_in\u001b[0m \u001b[0;34m=\u001b[0m \u001b[0mmodel\u001b[0m\u001b[0;34m.\u001b[0m\u001b[0mfit_transform\u001b[0m\u001b[0;34m(\u001b[0m\u001b[0mnp\u001b[0m\u001b[0;34m.\u001b[0m\u001b[0mmaximum\u001b[0m\u001b[0;34m(\u001b[0m\u001b[0mres\u001b[0m\u001b[0;34m,\u001b[0m \u001b[0;36m0\u001b[0m\u001b[0;34m)\u001b[0m\u001b[0;34m)\u001b[0m\u001b[0;34m.\u001b[0m\u001b[0mastype\u001b[0m\u001b[0;34m(\u001b[0m\u001b[0mnp\u001b[0m\u001b[0;34m.\u001b[0m\u001b[0mfloat32\u001b[0m\u001b[0;34m)\u001b[0m\u001b[0;34m\u001b[0m\u001b[0;34m\u001b[0m\u001b[0m\n\u001b[0m\u001b[1;32m    675\u001b[0m     \u001b[0mf_in\u001b[0m \u001b[0;34m=\u001b[0m \u001b[0mmodel\u001b[0m\u001b[0;34m.\u001b[0m\u001b[0mcomponents_\u001b[0m\u001b[0;34m.\u001b[0m\u001b[0mastype\u001b[0m\u001b[0;34m(\u001b[0m\u001b[0mnp\u001b[0m\u001b[0;34m.\u001b[0m\u001b[0mfloat32\u001b[0m\u001b[0;34m)\u001b[0m\u001b[0;34m\u001b[0m\u001b[0;34m\u001b[0m\u001b[0m\n\u001b[1;32m    676\u001b[0m \u001b[0;34m\u001b[0m\u001b[0m\n",
      "\u001b[0;32m/Users/roschkoenig/.local/lib/python3.6/site-packages/sklearn/decomposition/nmf.py\u001b[0m in \u001b[0;36mfit_transform\u001b[0;34m(self, X, y, W, H)\u001b[0m\n\u001b[1;32m   1233\u001b[0m             \u001b[0ml1_ratio\u001b[0m\u001b[0;34m=\u001b[0m\u001b[0mself\u001b[0m\u001b[0;34m.\u001b[0m\u001b[0ml1_ratio\u001b[0m\u001b[0;34m,\u001b[0m \u001b[0mregularization\u001b[0m\u001b[0;34m=\u001b[0m\u001b[0;34m'both'\u001b[0m\u001b[0;34m,\u001b[0m\u001b[0;34m\u001b[0m\u001b[0;34m\u001b[0m\u001b[0m\n\u001b[1;32m   1234\u001b[0m             \u001b[0mrandom_state\u001b[0m\u001b[0;34m=\u001b[0m\u001b[0mself\u001b[0m\u001b[0;34m.\u001b[0m\u001b[0mrandom_state\u001b[0m\u001b[0;34m,\u001b[0m \u001b[0mverbose\u001b[0m\u001b[0;34m=\u001b[0m\u001b[0mself\u001b[0m\u001b[0;34m.\u001b[0m\u001b[0mverbose\u001b[0m\u001b[0;34m,\u001b[0m\u001b[0;34m\u001b[0m\u001b[0;34m\u001b[0m\u001b[0m\n\u001b[0;32m-> 1235\u001b[0;31m             shuffle=self.shuffle)\n\u001b[0m\u001b[1;32m   1236\u001b[0m \u001b[0;34m\u001b[0m\u001b[0m\n\u001b[1;32m   1237\u001b[0m         self.reconstruction_err_ = _beta_divergence(X, W, H, self.beta_loss,\n",
      "\u001b[0;32m/Users/roschkoenig/.local/lib/python3.6/site-packages/sklearn/decomposition/nmf.py\u001b[0m in \u001b[0;36mnon_negative_factorization\u001b[0;34m(X, W, H, n_components, init, update_H, solver, beta_loss, tol, max_iter, alpha, l1_ratio, regularization, random_state, verbose, shuffle)\u001b[0m\n\u001b[1;32m   1009\u001b[0m     \u001b[0;32melse\u001b[0m\u001b[0;34m:\u001b[0m\u001b[0;34m\u001b[0m\u001b[0;34m\u001b[0m\u001b[0m\n\u001b[1;32m   1010\u001b[0m         W, H = _initialize_nmf(X, n_components, init=init,\n\u001b[0;32m-> 1011\u001b[0;31m                                random_state=random_state)\n\u001b[0m\u001b[1;32m   1012\u001b[0m \u001b[0;34m\u001b[0m\u001b[0m\n\u001b[1;32m   1013\u001b[0m     l1_reg_W, l1_reg_H, l2_reg_W, l2_reg_H = _compute_regularization(\n",
      "\u001b[0;32m/Users/roschkoenig/.local/lib/python3.6/site-packages/sklearn/decomposition/nmf.py\u001b[0m in \u001b[0;36m_initialize_nmf\u001b[0;34m(X, n_components, init, eps, random_state)\u001b[0m\n\u001b[1;32m    312\u001b[0m \u001b[0;34m\u001b[0m\u001b[0m\n\u001b[1;32m    313\u001b[0m     \u001b[0;31m# NNDSVD initialization\u001b[0m\u001b[0;34m\u001b[0m\u001b[0;34m\u001b[0m\u001b[0;34m\u001b[0m\u001b[0m\n\u001b[0;32m--> 314\u001b[0;31m     \u001b[0mU\u001b[0m\u001b[0;34m,\u001b[0m \u001b[0mS\u001b[0m\u001b[0;34m,\u001b[0m \u001b[0mV\u001b[0m \u001b[0;34m=\u001b[0m \u001b[0mrandomized_svd\u001b[0m\u001b[0;34m(\u001b[0m\u001b[0mX\u001b[0m\u001b[0;34m,\u001b[0m \u001b[0mn_components\u001b[0m\u001b[0;34m,\u001b[0m \u001b[0mrandom_state\u001b[0m\u001b[0;34m=\u001b[0m\u001b[0mrandom_state\u001b[0m\u001b[0;34m)\u001b[0m\u001b[0;34m\u001b[0m\u001b[0;34m\u001b[0m\u001b[0m\n\u001b[0m\u001b[1;32m    315\u001b[0m     \u001b[0mW\u001b[0m\u001b[0;34m,\u001b[0m \u001b[0mH\u001b[0m \u001b[0;34m=\u001b[0m \u001b[0mnp\u001b[0m\u001b[0;34m.\u001b[0m\u001b[0mzeros\u001b[0m\u001b[0;34m(\u001b[0m\u001b[0mU\u001b[0m\u001b[0;34m.\u001b[0m\u001b[0mshape\u001b[0m\u001b[0;34m)\u001b[0m\u001b[0;34m,\u001b[0m \u001b[0mnp\u001b[0m\u001b[0;34m.\u001b[0m\u001b[0mzeros\u001b[0m\u001b[0;34m(\u001b[0m\u001b[0mV\u001b[0m\u001b[0;34m.\u001b[0m\u001b[0mshape\u001b[0m\u001b[0;34m)\u001b[0m\u001b[0;34m\u001b[0m\u001b[0;34m\u001b[0m\u001b[0m\n\u001b[1;32m    316\u001b[0m \u001b[0;34m\u001b[0m\u001b[0m\n",
      "\u001b[0;32m/Users/roschkoenig/.local/lib/python3.6/site-packages/sklearn/utils/extmath.py\u001b[0m in \u001b[0;36mrandomized_svd\u001b[0;34m(M, n_components, n_oversamples, n_iter, power_iteration_normalizer, transpose, flip_sign, random_state)\u001b[0m\n\u001b[1;32m    324\u001b[0m \u001b[0;34m\u001b[0m\u001b[0m\n\u001b[1;32m    325\u001b[0m     Q = randomized_range_finder(M, n_random, n_iter,\n\u001b[0;32m--> 326\u001b[0;31m                                 power_iteration_normalizer, random_state)\n\u001b[0m\u001b[1;32m    327\u001b[0m \u001b[0;34m\u001b[0m\u001b[0m\n\u001b[1;32m    328\u001b[0m     \u001b[0;31m# project M to the (k + p) dimensional space using the basis vectors\u001b[0m\u001b[0;34m\u001b[0m\u001b[0;34m\u001b[0m\u001b[0;34m\u001b[0m\u001b[0m\n",
      "\u001b[0;32m/Users/roschkoenig/.local/lib/python3.6/site-packages/sklearn/utils/extmath.py\u001b[0m in \u001b[0;36mrandomized_range_finder\u001b[0;34m(A, size, n_iter, power_iteration_normalizer, random_state)\u001b[0m\n\u001b[1;32m    222\u001b[0m     \u001b[0;31m# Sample the range of A using by linear projection of Q\u001b[0m\u001b[0;34m\u001b[0m\u001b[0;34m\u001b[0m\u001b[0;34m\u001b[0m\u001b[0m\n\u001b[1;32m    223\u001b[0m     \u001b[0;31m# Extract an orthonormal basis\u001b[0m\u001b[0;34m\u001b[0m\u001b[0;34m\u001b[0m\u001b[0;34m\u001b[0m\u001b[0m\n\u001b[0;32m--> 224\u001b[0;31m     \u001b[0mQ\u001b[0m\u001b[0;34m,\u001b[0m \u001b[0m_\u001b[0m \u001b[0;34m=\u001b[0m \u001b[0mlinalg\u001b[0m\u001b[0;34m.\u001b[0m\u001b[0mqr\u001b[0m\u001b[0;34m(\u001b[0m\u001b[0msafe_sparse_dot\u001b[0m\u001b[0;34m(\u001b[0m\u001b[0mA\u001b[0m\u001b[0;34m,\u001b[0m \u001b[0mQ\u001b[0m\u001b[0;34m)\u001b[0m\u001b[0;34m,\u001b[0m \u001b[0mmode\u001b[0m\u001b[0;34m=\u001b[0m\u001b[0;34m'economic'\u001b[0m\u001b[0;34m)\u001b[0m\u001b[0;34m\u001b[0m\u001b[0;34m\u001b[0m\u001b[0m\n\u001b[0m\u001b[1;32m    225\u001b[0m     \u001b[0;32mreturn\u001b[0m \u001b[0mQ\u001b[0m\u001b[0;34m\u001b[0m\u001b[0;34m\u001b[0m\u001b[0m\n\u001b[1;32m    226\u001b[0m \u001b[0;34m\u001b[0m\u001b[0m\n",
      "\u001b[0;32m/Users/roschkoenig/.local/lib/python3.6/site-packages/scipy/linalg/decomp_qr.py\u001b[0m in \u001b[0;36mqr\u001b[0;34m(a, overwrite_a, lwork, mode, pivoting, check_finite)\u001b[0m\n\u001b[1;32m    139\u001b[0m         \u001b[0mgeqrf\u001b[0m\u001b[0;34m,\u001b[0m \u001b[0;34m=\u001b[0m \u001b[0mget_lapack_funcs\u001b[0m\u001b[0;34m(\u001b[0m\u001b[0;34m(\u001b[0m\u001b[0;34m'geqrf'\u001b[0m\u001b[0;34m,\u001b[0m\u001b[0;34m)\u001b[0m\u001b[0;34m,\u001b[0m \u001b[0;34m(\u001b[0m\u001b[0ma1\u001b[0m\u001b[0;34m,\u001b[0m\u001b[0;34m)\u001b[0m\u001b[0;34m)\u001b[0m\u001b[0;34m\u001b[0m\u001b[0;34m\u001b[0m\u001b[0m\n\u001b[1;32m    140\u001b[0m         qr, tau = safecall(geqrf, \"geqrf\", a1, lwork=lwork,\n\u001b[0;32m--> 141\u001b[0;31m                            overwrite_a=overwrite_a)\n\u001b[0m\u001b[1;32m    142\u001b[0m \u001b[0;34m\u001b[0m\u001b[0m\n\u001b[1;32m    143\u001b[0m     \u001b[0;32mif\u001b[0m \u001b[0mmode\u001b[0m \u001b[0;32mnot\u001b[0m \u001b[0;32min\u001b[0m \u001b[0;34m[\u001b[0m\u001b[0;34m'economic'\u001b[0m\u001b[0;34m,\u001b[0m \u001b[0;34m'raw'\u001b[0m\u001b[0;34m]\u001b[0m \u001b[0;32mor\u001b[0m \u001b[0mM\u001b[0m \u001b[0;34m<\u001b[0m \u001b[0mN\u001b[0m\u001b[0;34m:\u001b[0m\u001b[0;34m\u001b[0m\u001b[0;34m\u001b[0m\u001b[0m\n",
      "\u001b[0;32m/Users/roschkoenig/.local/lib/python3.6/site-packages/scipy/linalg/decomp_qr.py\u001b[0m in \u001b[0;36msafecall\u001b[0;34m(f, name, *args, **kwargs)\u001b[0m\n\u001b[1;32m     19\u001b[0m         \u001b[0mret\u001b[0m \u001b[0;34m=\u001b[0m \u001b[0mf\u001b[0m\u001b[0;34m(\u001b[0m\u001b[0;34m*\u001b[0m\u001b[0margs\u001b[0m\u001b[0;34m,\u001b[0m \u001b[0;34m**\u001b[0m\u001b[0mkwargs\u001b[0m\u001b[0;34m)\u001b[0m\u001b[0;34m\u001b[0m\u001b[0;34m\u001b[0m\u001b[0m\n\u001b[1;32m     20\u001b[0m         \u001b[0mkwargs\u001b[0m\u001b[0;34m[\u001b[0m\u001b[0;34m'lwork'\u001b[0m\u001b[0;34m]\u001b[0m \u001b[0;34m=\u001b[0m \u001b[0mret\u001b[0m\u001b[0;34m[\u001b[0m\u001b[0;34m-\u001b[0m\u001b[0;36m2\u001b[0m\u001b[0;34m]\u001b[0m\u001b[0;34m[\u001b[0m\u001b[0;36m0\u001b[0m\u001b[0;34m]\u001b[0m\u001b[0;34m.\u001b[0m\u001b[0mreal\u001b[0m\u001b[0;34m.\u001b[0m\u001b[0mastype\u001b[0m\u001b[0;34m(\u001b[0m\u001b[0mnumpy\u001b[0m\u001b[0;34m.\u001b[0m\u001b[0mint\u001b[0m\u001b[0;34m)\u001b[0m\u001b[0;34m\u001b[0m\u001b[0;34m\u001b[0m\u001b[0m\n\u001b[0;32m---> 21\u001b[0;31m     \u001b[0mret\u001b[0m \u001b[0;34m=\u001b[0m \u001b[0mf\u001b[0m\u001b[0;34m(\u001b[0m\u001b[0;34m*\u001b[0m\u001b[0margs\u001b[0m\u001b[0;34m,\u001b[0m \u001b[0;34m**\u001b[0m\u001b[0mkwargs\u001b[0m\u001b[0;34m)\u001b[0m\u001b[0;34m\u001b[0m\u001b[0;34m\u001b[0m\u001b[0m\n\u001b[0m\u001b[1;32m     22\u001b[0m     \u001b[0;32mif\u001b[0m \u001b[0mret\u001b[0m\u001b[0;34m[\u001b[0m\u001b[0;34m-\u001b[0m\u001b[0;36m1\u001b[0m\u001b[0;34m]\u001b[0m \u001b[0;34m<\u001b[0m \u001b[0;36m0\u001b[0m\u001b[0;34m:\u001b[0m\u001b[0;34m\u001b[0m\u001b[0;34m\u001b[0m\u001b[0m\n\u001b[1;32m     23\u001b[0m         raise ValueError(\"illegal value in %d-th argument of internal %s\"\n",
      "\u001b[0;31mKeyboardInterrupt\u001b[0m: "
     ]
    }
   ],
   "source": [
    "for f in range(len(Pfish)):\n",
    "    for c in range(len(Pfish[f][\"Cond\"])):\n",
    "        planes = Pfish[f][\"Cond\"][c][\"Plane\"]\n",
    "        Estimates = []\n",
    "        for p in range(len(planes)):\n",
    "            fname = planes[p][\"Tpaths\"]\n",
    "            fr = 4                                                              # frame rate (Hz)\n",
    "            decay_time = 0.5                                                    # approximate length of transient event in seconds\n",
    "            gSig = (4,4)                                                        # expected half size of neurons\n",
    "            p = 1                                                               # order of AR indicator dynamics\n",
    "            min_SNR = 1                                                         # minimum SNR for accepting new components\n",
    "            rval_thr = 0.90                                                     # correlation threshold for new component inclusion\n",
    "            ds_factor = 1                                                       # spatial downsampling factor (increases speed but may lose some fine structure)\n",
    "            gnb = 2                                                             # number of background components\n",
    "            gSig = tuple(np.ceil(np.array(gSig)/ds_factor).astype('int'))       # recompute gSig if downsampling is involved\n",
    "            mot_corr = True                                                     # flag for online motion correction \n",
    "            pw_rigid = False                                                    # flag for pw-rigid motion correction (slower but potentially more accurate)\n",
    "            max_shifts_online = np.ceil(10./ds_factor).astype('int')            # maximum allowed shift during motion correction\n",
    "            sniper_mode = True                                                  # flag using a CNN to detect new neurons (o/w space correlation is used)\n",
    "            init_batch = 200                                                    # number of frames for initialization (presumably from the first file)\n",
    "            expected_comps = 500                                                # maximum number of expected components used for memory pre-allocation (exaggerate here)\n",
    "            dist_shape_update = True                                            # flag for updating shapes in a distributed way\n",
    "            min_num_trial = 10                                                  # number of candidate components per frame     \n",
    "            K = 2                                                               # initial number of components\n",
    "            epochs = 2                                                          # number of passes over the data\n",
    "            show_movie = False                                                  # show the movie with the results as the data gets processed\n",
    "\n",
    "            params_dict = {'fnames': fname,\n",
    "                           'fr': fr,\n",
    "                           'decay_time': decay_time,\n",
    "                           'gSig': gSig,\n",
    "                           'p': p,\n",
    "                           'min_SNR': min_SNR,\n",
    "                           'rval_thr': rval_thr,\n",
    "                           'ds_factor': ds_factor,\n",
    "                           'nb': gnb,\n",
    "                           'motion_correct': mot_corr,\n",
    "                           'init_batch': init_batch,\n",
    "                           'init_method': 'bare',\n",
    "                           'normalize': True,\n",
    "                           'expected_comps': expected_comps,\n",
    "                           'sniper_mode': sniper_mode,\n",
    "                           'dist_shape_update' : dist_shape_update,\n",
    "                           'min_num_trial': min_num_trial,\n",
    "                           'K': K,\n",
    "                           'epochs': epochs,\n",
    "                           'max_shifts_online': max_shifts_online,\n",
    "                           'pw_rigid': pw_rigid,\n",
    "                           'show_movie': show_movie}\n",
    "            opts = cnmf.params.CNMFParams(params_dict=params_dict)\n",
    "            clear_output()\n",
    "            print('-----------------------------------------------------------------------')\n",
    "            print('This is fish ' +str(f)+ ' of ' +str(len(Pfish)))\n",
    "            print('Currently processing condition ' + Pfish[f][\"Cond\"][c][\"Name\"])\n",
    "            print('> Plane ' + str(p) + ' of ' + str(len(planes)))\n",
    "            print('-----------------------------------------------------------------------')\n",
    "            cmn  = cnmf.online_cnmf.OnACID(params=opts)\n",
    "            cmn.fit_online()\n",
    "            Estimates.append({'Spatial':cmn.estimates.A,'Temporal':cmn.estimates.C,'Background':cmn.estimates.b})\n",
    "\n",
    "        Pfish[f][\"Cond\"][c].update({\"CMN\":Estimates})"
   ]
  },
  {
   "cell_type": "code",
   "execution_count": 19,
   "metadata": {},
   "outputs": [
    {
     "data": {
      "text/plain": [
       "[{'Tpaths': ['/Volumes/MARIANNE/1812 Critical Dynamics in Epilepsy/PL_ZFRR003_01/BL/ZFRR003_01_s00_B_PL00.tif']},\n",
       " {'Tpaths': ['/Volumes/MARIANNE/1812 Critical Dynamics in Epilepsy/PL_ZFRR003_01/BL/ZFRR003_01_s00_B_PL01.tif']},\n",
       " {'Tpaths': ['/Volumes/MARIANNE/1812 Critical Dynamics in Epilepsy/PL_ZFRR003_01/BL/ZFRR003_01_s00_B_PL02.tif']},\n",
       " {'Tpaths': ['/Volumes/MARIANNE/1812 Critical Dynamics in Epilepsy/PL_ZFRR003_01/BL/ZFRR003_01_s00_B_PL03.tif']},\n",
       " {'Tpaths': ['/Volumes/MARIANNE/1812 Critical Dynamics in Epilepsy/PL_ZFRR003_01/BL/ZFRR003_01_s00_B_PL04.tif']},\n",
       " {'Tpaths': ['/Volumes/MARIANNE/1812 Critical Dynamics in Epilepsy/PL_ZFRR003_01/BL/ZFRR003_01_s00_B_PL05.tif']},\n",
       " {'Tpaths': ['/Volumes/MARIANNE/1812 Critical Dynamics in Epilepsy/PL_ZFRR003_01/BL/ZFRR003_01_s00_B_PL06.tif']},\n",
       " {'Tpaths': ['/Volumes/MARIANNE/1812 Critical Dynamics in Epilepsy/PL_ZFRR003_01/BL/ZFRR003_01_s00_B_PL07.tif']},\n",
       " {'Tpaths': ['/Volumes/MARIANNE/1812 Critical Dynamics in Epilepsy/PL_ZFRR003_01/BL/ZFRR003_01_s00_B_PL08.tif']}]"
      ]
     },
     "execution_count": 19,
     "metadata": {},
     "output_type": "execute_result"
    }
   ],
   "source": [
    "planes"
   ]
  },
  {
   "cell_type": "code",
   "execution_count": 15,
   "metadata": {},
   "outputs": [
    {
     "data": {
      "text/plain": [
       "<134398x586 sparse matrix of type '<class 'numpy.float32'>'\n",
       "\twith 45294 stored elements in Compressed Sparse Column format>"
      ]
     },
     "execution_count": 15,
     "metadata": {},
     "output_type": "execute_result"
    }
   ],
   "source": [
    "cmn.estimates.A"
   ]
  },
  {
   "cell_type": "code",
   "execution_count": 2,
   "metadata": {},
   "outputs": [],
   "source": [
    "# Housekeeping\n",
    "#===============================================================================\n",
    "# Module flags\n",
    "\n",
    "display_movie   = False      # play movie of tifs that are loaded\n",
    "save_results    = False      # flag to save results or not\n",
    "\n",
    "# Define folder locations\n",
    "#-------------------------------------------------------------------------------\n",
    "Fbase     = '/Users/roschkoenig/Dropbox/Research/1812 Critical Dynamics Epilepsy'\n",
    "Fscripts  = Fbase + os.sep + '03 - Cell detection' \n",
    "Fdata     = '/Volumes/GoogleDrive/My Drive/Research/1809 Seizure criticality/Data'\n",
    "Zfish     = cc.cde_cell_fishspec(Fdata)"
   ]
  },
  {
   "cell_type": "code",
   "execution_count": null,
   "metadata": {},
   "outputs": [],
   "source": [
    "Estimates = Secure_Estimates[0:9]\n",
    "Pfish[f][\"Cond\"][0].update({\"CMN\":Estimates})"
   ]
  },
  {
   "cell_type": "code",
   "execution_count": null,
   "metadata": {},
   "outputs": [],
   "source": [
    "# Save everyhting into folder\n",
    "#---------------------------------------------------------------------------------\n",
    "Fcmn = Fsave + os.sep + 'Analysis' + os.sep + 'CMN' + os.sep + Pfish[f][\"Name\"]\n",
    "if not os.path.exists(Fcmn): os.makedirs(Fcmn)\n",
    "    \n",
    "for c in range(len(Pfish[f][\"Cond\"])):\n",
    "    Fccond = Fcmn + os.sep + Pfish[f][\"Cond\"][c][\"Name\"]\n",
    "    if not os.path.exists(Fccond):\n",
    "        os.makedirs(Fccond)\n",
    "    for p in range(len(Pfish[f][\"Cond\"][c][\"CMN\"])):\n",
    "        scipy.io.savemat(Fccond + os.sep + Pfish[f][\"Name\"] + '_P' + str(p).zfill(2), Pfish[f][\"Cond\"][c][\"CMN\"][p])"
   ]
  }
 ],
 "metadata": {
  "kernelspec": {
   "display_name": "Python 3",
   "language": "python",
   "name": "python3"
  },
  "language_info": {
   "codemirror_mode": {
    "name": "ipython",
    "version": 3
   },
   "file_extension": ".py",
   "mimetype": "text/x-python",
   "name": "python",
   "nbconvert_exporter": "python",
   "pygments_lexer": "ipython3",
   "version": "3.6.8"
  }
 },
 "nbformat": 4,
 "nbformat_minor": 2
}
