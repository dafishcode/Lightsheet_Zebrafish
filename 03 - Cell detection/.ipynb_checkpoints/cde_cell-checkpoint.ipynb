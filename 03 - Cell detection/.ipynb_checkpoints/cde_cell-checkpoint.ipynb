{
 "cells": [
  {
   "cell_type": "code",
   "execution_count": 1,
   "metadata": {},
   "outputs": [],
   "source": [
    "################################################################################\n",
    "## Code adapted from demo_caiman_cnmf_3D as imported from github 21/11/2018\n",
    "## https://github.com/flatironinstitute/CaImAn\n",
    "################################################################################\n",
    "\n",
    "import cde_cell_functions as cc\n",
    "\n",
    "# Import relevant packages\n",
    "#===============================================================================\n",
    "import imp\n",
    "import logging\n",
    "import matplotlib.pyplot as plt\n",
    "import numpy as np\n",
    "import os\n",
    "import psutil\n",
    "import shutil\n",
    "from scipy.ndimage.filters import gaussian_filter\n",
    "import scipy.sparse\n",
    "import sys\n",
    "import re\n",
    "from skimage.external.tifffile import imread\n",
    "from skimage import io\n",
    "import warnings \n",
    "from IPython.display import clear_output\n",
    "import copy\n",
    "from importlib import reload\n",
    "from PIL import Image\n",
    "import datetime\n",
    "\n",
    "# Caiman setup\n",
    "#-------------------------------------------------------------------------------\n",
    "import caiman as cm\n",
    "import caiman.source_extraction.cnmf as cnmf\n",
    "from caiman.utils.visualization import nb_view_patches3d\n",
    "from caiman.source_extraction.cnmf import params as params\n",
    "from caiman.components_evaluation import evaluate_components, estimate_components_quality_auto\n",
    "from caiman.motion_correction import MotionCorrect\n",
    "from caiman.cluster import setup_cluster\n",
    "from caiman.paths import caiman_datadir\n",
    "from caiman.utils.visualization import inspect_correlation_pnr\n",
    "\n",
    "# Jupyter specific autoreloading for external functions (in case changes are made)\n",
    "# %load_ext autoreload\n",
    "# %autoreload"
   ]
  },
  {
   "cell_type": "code",
   "execution_count": 2,
   "metadata": {},
   "outputs": [],
   "source": [
    "# Housekeeping\n",
    "#===============================================================================\n",
    "# Module flags\n",
    "\n",
    "display_movie   = False      # play movie of tifs that are loaded\n",
    "save_results    = False      # flag to save results or not\n",
    "\n",
    "# Define folder locations\n",
    "#-------------------------------------------------------------------------------\n",
    "reload(cc)\n",
    "Fbase     = '/Users/roschkoenig/Dropbox/Research/1812 Critical Dynamics Epilepsy'\n",
    "Fsave     = '/Users/roschkoenig/Dropbox/Research/1812 Critical Dynamics Epilepsy Data'\n",
    "Fscripts  = Fbase + os.sep + '03 - Cell detection' \n",
    "Fdata     = '/Volumes/MARIANNE/1812 Critical Dynamics in Epilepsy'\n",
    "Zfish     = cc.cde_cell_fishspec(Fdata, 'RM')"
   ]
  },
  {
   "cell_type": "code",
   "execution_count": 7,
   "metadata": {},
   "outputs": [
    {
     "data": {
      "text/plain": [
       "'ZFRR007_01'"
      ]
     },
     "execution_count": 7,
     "metadata": {},
     "output_type": "execute_result"
    }
   ],
   "source": [
    "Fish = Zfish[4:]\n",
    "Fish[0][\"Name\"]"
   ]
  },
  {
   "cell_type": "markdown",
   "metadata": {},
   "source": [
    "# Split images up into planes"
   ]
  },
  {
   "cell_type": "code",
   "execution_count": 8,
   "metadata": {},
   "outputs": [
    {
     "name": "stdout",
     "output_type": "stream",
     "text": [
      "----------------------------------------------------------------------------\n",
      "Currently working on ZFRR007_01\n",
      "----------------------------------------------------------------------------\n",
      "I found 2 Conditions\n",
      "Condition BL\n",
      "> There are 9 Planes\n",
      "> Processing plane 1\n",
      ">  >  >  >  >  >  >  >  >  >  >  >  >  >  >  2019-04-01 19:25:53| Saving interim file\n",
      "> Processing plane 2\n",
      ">  >  >  >  >  >  >  >  >  >  >  >  >  >  >  2019-04-01 21:35:15| Saving interim file\n",
      "> Processing plane 3\n",
      ">  >  >  >  >  >  >  >  >  >  >  >  >  >  >  2019-04-01 23:45:07| Saving interim file\n",
      "> Processing plane 4\n",
      ">  >  >  >  >  >  >  >  >  >  >  >  >  >  >  2019-04-02 01:56:22| Saving interim file\n",
      "> Processing plane 5\n",
      ">  >  >  >  >  >  >  >  >  >  >  >  >  >  >  2019-04-02 04:07:14| Saving interim file\n",
      "> Processing plane 6\n",
      ">  >  >  >  >  >  >  >  >  >  >  >  >  >  >  2019-04-02 06:17:37| Saving interim file\n",
      "> Processing plane 7\n",
      ">  >  >  >  >  >  >  >  >  >  >  >  >  >  >  2019-04-02 08:28:55| Saving interim file\n",
      "> Processing plane 8\n",
      ">  >  >  >  >  >  >  >  >  >  >  >  >  >  >  2019-04-02 10:40:44| Saving interim file\n",
      "> Processing plane 9\n",
      ">  >  >  >  >  >  >  >  >  >  >  >  >  >  >  2019-04-02 12:55:58| Saving interim file\n",
      "Condition PTZ\n",
      "> There are 9 Planes\n",
      "> Processing plane 1\n",
      ">  >  >  >  >  >  >  >  >  >  >  >  >  >  >  2019-04-02 15:22:38| Saving interim file\n"
     ]
    },
    {
     "ename": "OSError",
     "evalue": "[Errno 27] File too large",
     "output_type": "error",
     "traceback": [
      "\u001b[0;31m---------------------------------------------------------------------------\u001b[0m",
      "\u001b[0;31mOSError\u001b[0m                                   Traceback (most recent call last)",
      "\u001b[0;32m/Users/roschkoenig/.local/lib/python3.6/site-packages/skimage/external/tifffile/tifffile.py\u001b[0m in \u001b[0;36mwrite_array\u001b[0;34m(self, data)\u001b[0m\n\u001b[1;32m   3638\u001b[0m         \u001b[0;32mtry\u001b[0m\u001b[0;34m:\u001b[0m\u001b[0;34m\u001b[0m\u001b[0;34m\u001b[0m\u001b[0m\n\u001b[0;32m-> 3639\u001b[0;31m             \u001b[0mdata\u001b[0m\u001b[0;34m.\u001b[0m\u001b[0mtofile\u001b[0m\u001b[0;34m(\u001b[0m\u001b[0mself\u001b[0m\u001b[0;34m.\u001b[0m\u001b[0m_fh\u001b[0m\u001b[0;34m)\u001b[0m\u001b[0;34m\u001b[0m\u001b[0;34m\u001b[0m\u001b[0m\n\u001b[0m\u001b[1;32m   3640\u001b[0m         \u001b[0;32mexcept\u001b[0m \u001b[0mException\u001b[0m\u001b[0;34m:\u001b[0m\u001b[0;34m\u001b[0m\u001b[0;34m\u001b[0m\u001b[0m\n",
      "\u001b[0;31mOSError\u001b[0m: 1089385232 requested and 1073741312 written",
      "\nDuring handling of the above exception, another exception occurred:\n",
      "\u001b[0;31mOSError\u001b[0m                                   Traceback (most recent call last)",
      "\u001b[0;32m<ipython-input-8-7e8c0db2ccb7>\u001b[0m in \u001b[0;36m<module>\u001b[0;34m()\u001b[0m\n\u001b[1;32m      3\u001b[0m     \u001b[0mprint\u001b[0m\u001b[0;34m(\u001b[0m\u001b[0;34m'Currently working on '\u001b[0m \u001b[0;34m+\u001b[0m \u001b[0mz\u001b[0m\u001b[0;34m[\u001b[0m\u001b[0;34m\"Name\"\u001b[0m\u001b[0;34m]\u001b[0m\u001b[0;34m)\u001b[0m\u001b[0;34m\u001b[0m\u001b[0;34m\u001b[0m\u001b[0m\n\u001b[1;32m      4\u001b[0m     \u001b[0mprint\u001b[0m\u001b[0;34m(\u001b[0m\u001b[0;34m'----------------------------------------------------------------------------'\u001b[0m\u001b[0;34m)\u001b[0m\u001b[0;34m\u001b[0m\u001b[0;34m\u001b[0m\u001b[0m\n\u001b[0;32m----> 5\u001b[0;31m     \u001b[0mcc\u001b[0m\u001b[0;34m.\u001b[0m\u001b[0mcde_cell_planesave\u001b[0m\u001b[0;34m(\u001b[0m\u001b[0mFdata\u001b[0m\u001b[0;34m,\u001b[0m \u001b[0mz\u001b[0m\u001b[0;34m)\u001b[0m\u001b[0;34m\u001b[0m\u001b[0;34m\u001b[0m\u001b[0m\n\u001b[0m",
      "\u001b[0;32m/Users/roschkoenig/Dropbox/Research/1812 Critical Dynamics Epilepsy/03 - Cell detection/cde_cell_functions.py\u001b[0m in \u001b[0;36mcde_cell_planesave\u001b[0;34m(Fdata, Fish, cname, mxpf)\u001b[0m\n\u001b[1;32m    137\u001b[0m                     \u001b[0mprint\u001b[0m\u001b[0;34m(\u001b[0m\u001b[0mcurrentDT\u001b[0m\u001b[0;34m.\u001b[0m\u001b[0mstrftime\u001b[0m\u001b[0;34m(\u001b[0m\u001b[0;34m\"%Y-%m-%d %H:%M:%S\"\u001b[0m\u001b[0;34m)\u001b[0m \u001b[0;34m+\u001b[0m \u001b[0;34m'| Saving interim file'\u001b[0m\u001b[0;34m)\u001b[0m\u001b[0;34m\u001b[0m\u001b[0;34m\u001b[0m\u001b[0m\n\u001b[1;32m    138\u001b[0m \u001b[0;34m\u001b[0m\u001b[0m\n\u001b[0;32m--> 139\u001b[0;31m                     \u001b[0mio\u001b[0m\u001b[0;34m.\u001b[0m\u001b[0mimsave\u001b[0m\u001b[0;34m(\u001b[0m\u001b[0mpth\u001b[0m \u001b[0;34m+\u001b[0m \u001b[0mfnm\u001b[0m\u001b[0;34m,\u001b[0m \u001b[0mpln\u001b[0m\u001b[0;34m)\u001b[0m\u001b[0;34m\u001b[0m\u001b[0;34m\u001b[0m\u001b[0m\n\u001b[0m\u001b[1;32m    140\u001b[0m \u001b[0;34m\u001b[0m\u001b[0m\n",
      "\u001b[0;32m/Users/roschkoenig/.local/lib/python3.6/site-packages/skimage/io/_io.py\u001b[0m in \u001b[0;36mimsave\u001b[0;34m(fname, arr, plugin, **plugin_args)\u001b[0m\n\u001b[1;32m    141\u001b[0m     \u001b[0;32mif\u001b[0m \u001b[0marr\u001b[0m\u001b[0;34m.\u001b[0m\u001b[0mdtype\u001b[0m \u001b[0;34m==\u001b[0m \u001b[0mbool\u001b[0m\u001b[0;34m:\u001b[0m\u001b[0;34m\u001b[0m\u001b[0;34m\u001b[0m\u001b[0m\n\u001b[1;32m    142\u001b[0m         \u001b[0mwarn\u001b[0m\u001b[0;34m(\u001b[0m\u001b[0;34m'%s is a boolean image: setting True to 1 and False to 0'\u001b[0m \u001b[0;34m%\u001b[0m \u001b[0mfname\u001b[0m\u001b[0;34m)\u001b[0m\u001b[0;34m\u001b[0m\u001b[0;34m\u001b[0m\u001b[0m\n\u001b[0;32m--> 143\u001b[0;31m     \u001b[0;32mreturn\u001b[0m \u001b[0mcall_plugin\u001b[0m\u001b[0;34m(\u001b[0m\u001b[0;34m'imsave'\u001b[0m\u001b[0;34m,\u001b[0m \u001b[0mfname\u001b[0m\u001b[0;34m,\u001b[0m \u001b[0marr\u001b[0m\u001b[0;34m,\u001b[0m \u001b[0mplugin\u001b[0m\u001b[0;34m=\u001b[0m\u001b[0mplugin\u001b[0m\u001b[0;34m,\u001b[0m \u001b[0;34m**\u001b[0m\u001b[0mplugin_args\u001b[0m\u001b[0;34m)\u001b[0m\u001b[0;34m\u001b[0m\u001b[0;34m\u001b[0m\u001b[0m\n\u001b[0m\u001b[1;32m    144\u001b[0m \u001b[0;34m\u001b[0m\u001b[0m\n\u001b[1;32m    145\u001b[0m \u001b[0;34m\u001b[0m\u001b[0m\n",
      "\u001b[0;32m/Users/roschkoenig/.local/lib/python3.6/site-packages/skimage/io/manage_plugins.py\u001b[0m in \u001b[0;36mcall_plugin\u001b[0;34m(kind, *args, **kwargs)\u001b[0m\n\u001b[1;32m    212\u001b[0m                                (plugin, kind))\n\u001b[1;32m    213\u001b[0m \u001b[0;34m\u001b[0m\u001b[0m\n\u001b[0;32m--> 214\u001b[0;31m     \u001b[0;32mreturn\u001b[0m \u001b[0mfunc\u001b[0m\u001b[0;34m(\u001b[0m\u001b[0;34m*\u001b[0m\u001b[0margs\u001b[0m\u001b[0;34m,\u001b[0m \u001b[0;34m**\u001b[0m\u001b[0mkwargs\u001b[0m\u001b[0;34m)\u001b[0m\u001b[0;34m\u001b[0m\u001b[0;34m\u001b[0m\u001b[0m\n\u001b[0m\u001b[1;32m    215\u001b[0m \u001b[0;34m\u001b[0m\u001b[0m\n\u001b[1;32m    216\u001b[0m \u001b[0;34m\u001b[0m\u001b[0m\n",
      "\u001b[0;32m/Users/roschkoenig/.local/lib/python3.6/site-packages/skimage/external/tifffile/tifffile.py\u001b[0m in \u001b[0;36mimsave\u001b[0;34m(file, data, **kwargs)\u001b[0m\n\u001b[1;32m    342\u001b[0m \u001b[0;34m\u001b[0m\u001b[0m\n\u001b[1;32m    343\u001b[0m     \u001b[0;32mwith\u001b[0m \u001b[0mTiffWriter\u001b[0m\u001b[0;34m(\u001b[0m\u001b[0mfile\u001b[0m\u001b[0;34m,\u001b[0m \u001b[0;34m**\u001b[0m\u001b[0mtifargs\u001b[0m\u001b[0;34m)\u001b[0m \u001b[0;32mas\u001b[0m \u001b[0mtif\u001b[0m\u001b[0;34m:\u001b[0m\u001b[0;34m\u001b[0m\u001b[0;34m\u001b[0m\u001b[0m\n\u001b[0;32m--> 344\u001b[0;31m         \u001b[0mtif\u001b[0m\u001b[0;34m.\u001b[0m\u001b[0msave\u001b[0m\u001b[0;34m(\u001b[0m\u001b[0mdata\u001b[0m\u001b[0;34m,\u001b[0m \u001b[0;34m**\u001b[0m\u001b[0mkwargs\u001b[0m\u001b[0;34m)\u001b[0m\u001b[0;34m\u001b[0m\u001b[0;34m\u001b[0m\u001b[0m\n\u001b[0m\u001b[1;32m    345\u001b[0m \u001b[0;34m\u001b[0m\u001b[0m\n\u001b[1;32m    346\u001b[0m \u001b[0;34m\u001b[0m\u001b[0m\n",
      "\u001b[0;32m/Users/roschkoenig/.local/lib/python3.6/site-packages/skimage/external/tifffile/tifffile.py\u001b[0m in \u001b[0;36msave\u001b[0;34m(self, data, photometric, planarconfig, tile, contiguous, compress, colormap, description, datetime, resolution, metadata, extratags)\u001b[0m\n\u001b[1;32m   1023\u001b[0m                     \u001b[0mfh\u001b[0m\u001b[0;34m.\u001b[0m\u001b[0mwrite\u001b[0m\u001b[0;34m(\u001b[0m\u001b[0mplane\u001b[0m\u001b[0;34m)\u001b[0m\u001b[0;34m\u001b[0m\u001b[0;34m\u001b[0m\u001b[0m\n\u001b[1;32m   1024\u001b[0m             \u001b[0;32melse\u001b[0m\u001b[0;34m:\u001b[0m\u001b[0;34m\u001b[0m\u001b[0;34m\u001b[0m\u001b[0m\n\u001b[0;32m-> 1025\u001b[0;31m                 \u001b[0mfh\u001b[0m\u001b[0;34m.\u001b[0m\u001b[0mwrite_array\u001b[0m\u001b[0;34m(\u001b[0m\u001b[0mdata\u001b[0m\u001b[0;34m)\u001b[0m\u001b[0;34m\u001b[0m\u001b[0;34m\u001b[0m\u001b[0m\n\u001b[0m\u001b[1;32m   1026\u001b[0m \u001b[0;34m\u001b[0m\u001b[0m\n\u001b[1;32m   1027\u001b[0m             \u001b[0;31m# update strip/tile offsets and byte_counts if necessary\u001b[0m\u001b[0;34m\u001b[0m\u001b[0;34m\u001b[0m\u001b[0;34m\u001b[0m\u001b[0m\n",
      "\u001b[0;32m/Users/roschkoenig/.local/lib/python3.6/site-packages/skimage/external/tifffile/tifffile.py\u001b[0m in \u001b[0;36mwrite_array\u001b[0;34m(self, data)\u001b[0m\n\u001b[1;32m   3640\u001b[0m         \u001b[0;32mexcept\u001b[0m \u001b[0mException\u001b[0m\u001b[0;34m:\u001b[0m\u001b[0;34m\u001b[0m\u001b[0;34m\u001b[0m\u001b[0m\n\u001b[1;32m   3641\u001b[0m             \u001b[0;31m# BytesIO\u001b[0m\u001b[0;34m\u001b[0m\u001b[0;34m\u001b[0m\u001b[0;34m\u001b[0m\u001b[0m\n\u001b[0;32m-> 3642\u001b[0;31m             \u001b[0mself\u001b[0m\u001b[0;34m.\u001b[0m\u001b[0m_fh\u001b[0m\u001b[0;34m.\u001b[0m\u001b[0mwrite\u001b[0m\u001b[0;34m(\u001b[0m\u001b[0mdata\u001b[0m\u001b[0;34m.\u001b[0m\u001b[0mtostring\u001b[0m\u001b[0;34m(\u001b[0m\u001b[0;34m)\u001b[0m\u001b[0;34m)\u001b[0m\u001b[0;34m\u001b[0m\u001b[0;34m\u001b[0m\u001b[0m\n\u001b[0m\u001b[1;32m   3643\u001b[0m \u001b[0;34m\u001b[0m\u001b[0m\n\u001b[1;32m   3644\u001b[0m     \u001b[0;32mdef\u001b[0m \u001b[0mtell\u001b[0m\u001b[0;34m(\u001b[0m\u001b[0mself\u001b[0m\u001b[0;34m)\u001b[0m\u001b[0;34m:\u001b[0m\u001b[0;34m\u001b[0m\u001b[0;34m\u001b[0m\u001b[0m\n",
      "\u001b[0;31mOSError\u001b[0m: [Errno 27] File too large"
     ]
    }
   ],
   "source": [
    "for z in Fish:\n",
    "    print('----------------------------------------------------------------------------')\n",
    "    print('Currently working on ' + z[\"Name\"])\n",
    "    print('----------------------------------------------------------------------------')\n",
    "    cc.cde_cell_planesave(Fdata, z, mxpf = 7200)"
   ]
  },
  {
   "cell_type": "code",
   "execution_count": 6,
   "metadata": {},
   "outputs": [
    {
     "name": "stdout",
     "output_type": "stream",
     "text": [
      "2019-03-13 17:00:47\n"
     ]
    }
   ],
   "source": []
  },
  {
   "cell_type": "code",
   "execution_count": 9,
   "metadata": {},
   "outputs": [
    {
     "data": {
      "text/plain": [
       "{'Name': 'PTZ',\n",
       " 'Path': '/Volumes/MARIANNE/1812 Critical Dynamics in Epilepsy/RM_ZFRR008_02/PTZ',\n",
       " 'Plane': [],\n",
       " 'Tifs': [],\n",
       " 'Tpaths': []}"
      ]
     },
     "execution_count": 9,
     "metadata": {},
     "output_type": "execute_result"
    }
   ],
   "source": [
    "z[\"Cond\"][1]"
   ]
  },
  {
   "cell_type": "markdown",
   "metadata": {},
   "source": [
    "# Run actual cell segmentation"
   ]
  },
  {
   "cell_type": "code",
   "execution_count": 8,
   "metadata": {},
   "outputs": [],
   "source": [
    "imp.reload(cc),  \n",
    "Pfish = cc.cde_cell_fishspec(Fdata, 'PL')\n",
    "f     = 3"
   ]
  },
  {
   "cell_type": "code",
   "execution_count": 261,
   "metadata": {},
   "outputs": [
    {
     "data": {
      "text/plain": [
       "<module 'cde_cell_functions' from '/Users/roschkoenig/Dropbox/Research/1812 Critical Dynamics Epilepsy/03 - Cell detection/cde_cell_functions.py'>"
      ]
     },
     "execution_count": 261,
     "metadata": {},
     "output_type": "execute_result"
    }
   ],
   "source": [
    "imp.reload(cc)"
   ]
  },
  {
   "cell_type": "code",
   "execution_count": null,
   "metadata": {},
   "outputs": [
    {
     "name": "stderr",
     "output_type": "stream",
     "text": [
      "WARNING:root:Changing key fnames in group data from None to ['/Volumes/MARIANNE/1812 Critical Dynamics in Epilepsy/PL_ZFRR004_02/PTZ/ZFRR004_02_s00_P_PL03.tif', '/Volumes/MARIANNE/1812 Critical Dynamics in Epilepsy/PL_ZFRR004_02/PTZ/ZFRR004_02_s01_P_PL03.tif', '/Volumes/MARIANNE/1812 Critical Dynamics in Epilepsy/PL_ZFRR004_02/PTZ/ZFRR004_02_s02_P_PL03.tif']\n",
      "WARNING:root:Changing key fr in group data from 30 to 4\n",
      "WARNING:root:Changing key decay_time in group data from 0.4 to 0.5\n",
      "WARNING:root:Changing key p in group preprocess from 2 to 1\n",
      "WARNING:root:Changing key gSig in group init from [5, 5] to (4, 4)\n",
      "WARNING:root:Changing key nb in group init from 1 to 2\n",
      "WARNING:root:Changing key K in group init from 30 to 2\n",
      "WARNING:root:Changing key nb in group spatial from 1 to 2\n",
      "WARNING:root:Changing key p in group temporal from 2 to 1\n",
      "WARNING:root:Changing key nb in group temporal from 1 to 2\n",
      "WARNING:root:Changing key min_SNR in group quality from 2.5 to 1\n",
      "WARNING:root:Changing key rval_thr in group quality from 0.8 to 0.9\n",
      "WARNING:root:Changing key min_SNR in group online from 2.5 to 1\n",
      "WARNING:root:Changing key rval_thr in group online from 0.8 to 0.9\n",
      "WARNING:root:Changing key normalize in group online from False to True\n",
      "WARNING:root:Changing key sniper_mode in group online from False to True\n",
      "WARNING:root:Changing key dist_shape_update in group online from False to True\n",
      "WARNING:root:Changing key min_num_trial in group online from 5 to 10\n",
      "WARNING:root:Changing key epochs in group online from 1 to 2\n"
     ]
    },
    {
     "name": "stdout",
     "output_type": "stream",
     "text": [
      "-----------------------------------------------------------------------\n",
      "Currently processing condition PTZ\n",
      "> Plane 2 of 9\n",
      "-----------------------------------------------------------------------\n",
      "Size frame:(298, 451)\n",
      "Noise Normalization\n",
      "Roi Extraction...\n",
      "Greedy initialization of spatial and temporal components using spatial Gaussian filtering\n",
      "USING TOTAL SUM FOR INITIALIZATION....\n",
      "(Hals) Refining Components...\n",
      "Expecting 500 components\n",
      "Now processing file /Volumes/MARIANNE/1812 Critical Dynamics in Epilepsy/PL_ZFRR004_02/PTZ/ZFRR004_02_s00_P_PL03.tif\n",
      "Epoch: 1. 200 frames have beeen processed in total. 0 new components were added. Total # of components is 2\n",
      "Epoch: 1. 300 frames have beeen processed in total. 80 new components were added. Total # of components is 82\n",
      "Epoch: 1. 400 frames have beeen processed in total. 39 new components were added. Total # of components is 121\n",
      "Epoch: 1. 500 frames have beeen processed in total. 38 new components were added. Total # of components is 159\n",
      "Epoch: 1. 600 frames have beeen processed in total. 30 new components were added. Total # of components is 189\n",
      "Epoch: 1. 700 frames have beeen processed in total. 27 new components were added. Total # of components is 216\n",
      "Epoch: 1. 800 frames have beeen processed in total. 56 new components were added. Total # of components is 272\n",
      "Epoch: 1. 900 frames have beeen processed in total. 31 new components were added. Total # of components is 303\n",
      "Epoch: 1. 1000 frames have beeen processed in total. 22 new components were added. Total # of components is 325\n",
      "Epoch: 1. 1100 frames have beeen processed in total. 27 new components were added. Total # of components is 352\n",
      "Epoch: 1. 1200 frames have beeen processed in total. 21 new components were added. Total # of components is 373\n",
      "Epoch: 1. 1300 frames have beeen processed in total. 29 new components were added. Total # of components is 402\n",
      "Epoch: 1. 1400 frames have beeen processed in total. 40 new components were added. Total # of components is 442\n",
      "Epoch: 1. 1500 frames have beeen processed in total. 18 new components were added. Total # of components is 460\n",
      "Epoch: 1. 1600 frames have beeen processed in total. 10 new components were added. Total # of components is 470\n",
      "Epoch: 1. 1700 frames have beeen processed in total. 17 new components were added. Total # of components is 487\n"
     ]
    },
    {
     "name": "stderr",
     "output_type": "stream",
     "text": [
      "WARNING:root:Changing key expected_comps in group online from 500 to 700\n"
     ]
    },
    {
     "name": "stdout",
     "output_type": "stream",
     "text": [
      "Increasing number of expected components to:700\n",
      "Epoch: 1. 1800 frames have beeen processed in total. 22 new components were added. Total # of components is 509\n",
      "Epoch: 1. 1900 frames have beeen processed in total. 21 new components were added. Total # of components is 530\n",
      "Epoch: 1. 2000 frames have beeen processed in total. 13 new components were added. Total # of components is 543\n",
      "Epoch: 1. 2100 frames have beeen processed in total. 13 new components were added. Total # of components is 556\n",
      "Epoch: 1. 2200 frames have beeen processed in total. 12 new components were added. Total # of components is 568\n",
      "Epoch: 1. 2300 frames have beeen processed in total. 17 new components were added. Total # of components is 585\n",
      "Epoch: 1. 2400 frames have beeen processed in total. 13 new components were added. Total # of components is 598\n",
      "Epoch: 1. 2500 frames have beeen processed in total. 21 new components were added. Total # of components is 619\n",
      "Epoch: 1. 2600 frames have beeen processed in total. 13 new components were added. Total # of components is 632\n",
      "Epoch: 1. 2700 frames have beeen processed in total. 13 new components were added. Total # of components is 645\n",
      "Epoch: 1. 2800 frames have beeen processed in total. 9 new components were added. Total # of components is 654\n",
      "Epoch: 1. 2900 frames have beeen processed in total. 6 new components were added. Total # of components is 660\n",
      "Epoch: 1. 3000 frames have beeen processed in total. 6 new components were added. Total # of components is 666\n",
      "Epoch: 1. 3100 frames have beeen processed in total. 3 new components were added. Total # of components is 669\n",
      "Epoch: 1. 3200 frames have beeen processed in total. 3 new components were added. Total # of components is 672\n",
      "Epoch: 1. 3300 frames have beeen processed in total. 4 new components were added. Total # of components is 676\n",
      "Epoch: 1. 3400 frames have beeen processed in total. 0 new components were added. Total # of components is 676\n",
      "Epoch: 1. 3500 frames have beeen processed in total. 0 new components were added. Total # of components is 676\n",
      "Epoch: 1. 3600 frames have beeen processed in total. 0 new components were added. Total # of components is 676\n",
      "Epoch: 1. 3700 frames have beeen processed in total. 0 new components were added. Total # of components is 676\n",
      "Epoch: 1. 3800 frames have beeen processed in total. 0 new components were added. Total # of components is 676\n",
      "Epoch: 1. 3900 frames have beeen processed in total. 0 new components were added. Total # of components is 676\n",
      "Epoch: 1. 4000 frames have beeen processed in total. 0 new components were added. Total # of components is 676\n",
      "Epoch: 1. 4100 frames have beeen processed in total. 0 new components were added. Total # of components is 676\n",
      "Epoch: 1. 4200 frames have beeen processed in total. 1 new components were added. Total # of components is 677\n",
      "Epoch: 1. 4300 frames have beeen processed in total. 1 new components were added. Total # of components is 678\n",
      "Epoch: 1. 4400 frames have beeen processed in total. 0 new components were added. Total # of components is 678\n",
      "Epoch: 1. 4500 frames have beeen processed in total. 0 new components were added. Total # of components is 678\n",
      "Epoch: 1. 4600 frames have beeen processed in total. 0 new components were added. Total # of components is 678\n",
      "Epoch: 1. 4700 frames have beeen processed in total. 0 new components were added. Total # of components is 678\n",
      "Epoch: 1. 4800 frames have beeen processed in total. 1 new components were added. Total # of components is 679\n",
      "Epoch: 1. 4900 frames have beeen processed in total. 4 new components were added. Total # of components is 683\n",
      "Epoch: 1. 5000 frames have beeen processed in total. 7 new components were added. Total # of components is 690\n"
     ]
    },
    {
     "name": "stderr",
     "output_type": "stream",
     "text": [
      "WARNING:root:Changing key expected_comps in group online from 700 to 900\n"
     ]
    },
    {
     "name": "stdout",
     "output_type": "stream",
     "text": [
      "Increasing number of expected components to:900\n",
      "Epoch: 1. 5100 frames have beeen processed in total. 12 new components were added. Total # of components is 702\n",
      "Epoch: 1. 5200 frames have beeen processed in total. 20 new components were added. Total # of components is 722\n",
      "Epoch: 1. 5300 frames have beeen processed in total. 7 new components were added. Total # of components is 729\n",
      "Epoch: 1. 5400 frames have beeen processed in total. 11 new components were added. Total # of components is 740\n",
      "Epoch: 1. 5500 frames have beeen processed in total. 13 new components were added. Total # of components is 753\n",
      "Epoch: 1. 5600 frames have beeen processed in total. 22 new components were added. Total # of components is 775\n",
      "Epoch: 1. 5700 frames have beeen processed in total. 7 new components were added. Total # of components is 782\n",
      "Epoch: 1. 5800 frames have beeen processed in total. 31 new components were added. Total # of components is 813\n",
      "Epoch: 1. 5900 frames have beeen processed in total. 13 new components were added. Total # of components is 826\n",
      "Epoch: 1. 6000 frames have beeen processed in total. 17 new components were added. Total # of components is 843\n",
      "Epoch: 1. 6100 frames have beeen processed in total. 16 new components were added. Total # of components is 859\n",
      "Epoch: 1. 6200 frames have beeen processed in total. 26 new components were added. Total # of components is 885\n",
      "Epoch: 1. 6300 frames have beeen processed in total. 9 new components were added. Total # of components is 894\n"
     ]
    },
    {
     "name": "stderr",
     "output_type": "stream",
     "text": [
      "WARNING:root:Changing key expected_comps in group online from 900 to 1100\n"
     ]
    },
    {
     "name": "stdout",
     "output_type": "stream",
     "text": [
      "Increasing number of expected components to:1100\n",
      "Epoch: 1. 6400 frames have beeen processed in total. 5 new components were added. Total # of components is 899\n",
      "Epoch: 1. 6500 frames have beeen processed in total. 4 new components were added. Total # of components is 903\n",
      "Epoch: 1. 6600 frames have beeen processed in total. 4 new components were added. Total # of components is 907\n",
      "Epoch: 1. 6700 frames have beeen processed in total. 0 new components were added. Total # of components is 907\n",
      "Epoch: 1. 6800 frames have beeen processed in total. 0 new components were added. Total # of components is 907\n",
      "Epoch: 1. 6900 frames have beeen processed in total. 0 new components were added. Total # of components is 907\n",
      "Epoch: 1. 7000 frames have beeen processed in total. 0 new components were added. Total # of components is 907\n",
      "Epoch: 1. 7100 frames have beeen processed in total. 0 new components were added. Total # of components is 907\n",
      "Epoch: 1. 7200 frames have beeen processed in total. 0 new components were added. Total # of components is 907\n",
      "Epoch: 1. 7300 frames have beeen processed in total. 0 new components were added. Total # of components is 907\n",
      "Epoch: 1. 7400 frames have beeen processed in total. 0 new components were added. Total # of components is 907\n",
      "Epoch: 1. 7500 frames have beeen processed in total. 0 new components were added. Total # of components is 907\n",
      "Now processing file /Volumes/MARIANNE/1812 Critical Dynamics in Epilepsy/PL_ZFRR004_02/PTZ/ZFRR004_02_s01_P_PL03.tif\n",
      "Epoch: 1. 7600 frames have beeen processed in total. 0 new components were added. Total # of components is 907\n",
      "Epoch: 1. 7700 frames have beeen processed in total. 0 new components were added. Total # of components is 907\n",
      "Epoch: 1. 7800 frames have beeen processed in total. 0 new components were added. Total # of components is 907\n",
      "Epoch: 1. 7900 frames have beeen processed in total. 0 new components were added. Total # of components is 907\n",
      "Epoch: 1. 8000 frames have beeen processed in total. 0 new components were added. Total # of components is 907\n",
      "Epoch: 1. 8100 frames have beeen processed in total. 0 new components were added. Total # of components is 907\n",
      "Epoch: 1. 8200 frames have beeen processed in total. 0 new components were added. Total # of components is 907\n",
      "Epoch: 1. 8300 frames have beeen processed in total. 0 new components were added. Total # of components is 907\n",
      "Epoch: 1. 8400 frames have beeen processed in total. 0 new components were added. Total # of components is 907\n",
      "Epoch: 1. 8500 frames have beeen processed in total. 0 new components were added. Total # of components is 907\n",
      "Epoch: 1. 8600 frames have beeen processed in total. 0 new components were added. Total # of components is 907\n",
      "Epoch: 1. 8700 frames have beeen processed in total. 0 new components were added. Total # of components is 907\n",
      "Epoch: 1. 8800 frames have beeen processed in total. 0 new components were added. Total # of components is 907\n",
      "Epoch: 1. 8900 frames have beeen processed in total. 0 new components were added. Total # of components is 907\n",
      "Epoch: 1. 9000 frames have beeen processed in total. 0 new components were added. Total # of components is 907\n",
      "Epoch: 1. 9100 frames have beeen processed in total. 0 new components were added. Total # of components is 907\n",
      "Epoch: 1. 9200 frames have beeen processed in total. 0 new components were added. Total # of components is 907\n",
      "Epoch: 1. 9300 frames have beeen processed in total. 0 new components were added. Total # of components is 907\n",
      "Epoch: 1. 9400 frames have beeen processed in total. 0 new components were added. Total # of components is 907\n",
      "Epoch: 1. 9500 frames have beeen processed in total. 0 new components were added. Total # of components is 907\n",
      "Epoch: 1. 9600 frames have beeen processed in total. 0 new components were added. Total # of components is 907\n",
      "Epoch: 1. 9700 frames have beeen processed in total. 0 new components were added. Total # of components is 907\n",
      "Epoch: 1. 9800 frames have beeen processed in total. 0 new components were added. Total # of components is 907\n",
      "Epoch: 1. 9900 frames have beeen processed in total. 0 new components were added. Total # of components is 907\n",
      "Epoch: 1. 10000 frames have beeen processed in total. 0 new components were added. Total # of components is 907\n",
      "Epoch: 1. 10100 frames have beeen processed in total. 0 new components were added. Total # of components is 907\n",
      "Epoch: 1. 10200 frames have beeen processed in total. 0 new components were added. Total # of components is 907\n",
      "Epoch: 1. 10300 frames have beeen processed in total. 0 new components were added. Total # of components is 907\n",
      "Epoch: 1. 10400 frames have beeen processed in total. 0 new components were added. Total # of components is 907\n",
      "Epoch: 1. 10500 frames have beeen processed in total. 0 new components were added. Total # of components is 907\n",
      "Epoch: 1. 10600 frames have beeen processed in total. 0 new components were added. Total # of components is 907\n",
      "Epoch: 1. 10700 frames have beeen processed in total. 0 new components were added. Total # of components is 907\n",
      "Epoch: 1. 10800 frames have beeen processed in total. 0 new components were added. Total # of components is 907\n",
      "Epoch: 1. 10900 frames have beeen processed in total. 0 new components were added. Total # of components is 907\n",
      "Epoch: 1. 11000 frames have beeen processed in total. 0 new components were added. Total # of components is 907\n",
      "Epoch: 1. 11100 frames have beeen processed in total. 0 new components were added. Total # of components is 907\n",
      "Epoch: 1. 11200 frames have beeen processed in total. 0 new components were added. Total # of components is 907\n",
      "Epoch: 1. 11300 frames have beeen processed in total. 0 new components were added. Total # of components is 907\n",
      "Epoch: 1. 11400 frames have beeen processed in total. 0 new components were added. Total # of components is 907\n",
      "Epoch: 1. 11500 frames have beeen processed in total. 0 new components were added. Total # of components is 907\n",
      "Epoch: 1. 11600 frames have beeen processed in total. 0 new components were added. Total # of components is 907\n",
      "Epoch: 1. 11700 frames have beeen processed in total. 0 new components were added. Total # of components is 907\n",
      "Epoch: 1. 11800 frames have beeen processed in total. 10 new components were added. Total # of components is 917\n",
      "Epoch: 1. 11900 frames have beeen processed in total. 0 new components were added. Total # of components is 917\n",
      "Epoch: 1. 12000 frames have beeen processed in total. 0 new components were added. Total # of components is 917\n",
      "Epoch: 1. 12100 frames have beeen processed in total. 0 new components were added. Total # of components is 917\n",
      "Epoch: 1. 12200 frames have beeen processed in total. 0 new components were added. Total # of components is 917\n",
      "Epoch: 1. 12300 frames have beeen processed in total. 0 new components were added. Total # of components is 917\n",
      "Epoch: 1. 12400 frames have beeen processed in total. 0 new components were added. Total # of components is 917\n",
      "Epoch: 1. 12500 frames have beeen processed in total. 0 new components were added. Total # of components is 917\n",
      "Epoch: 1. 12600 frames have beeen processed in total. 0 new components were added. Total # of components is 917\n",
      "Epoch: 1. 12700 frames have beeen processed in total. 0 new components were added. Total # of components is 917\n",
      "Epoch: 1. 12800 frames have beeen processed in total. 0 new components were added. Total # of components is 917\n",
      "Epoch: 1. 12900 frames have beeen processed in total. 0 new components were added. Total # of components is 917\n",
      "Epoch: 1. 13000 frames have beeen processed in total. 0 new components were added. Total # of components is 917\n",
      "Epoch: 1. 13100 frames have beeen processed in total. 0 new components were added. Total # of components is 917\n",
      "Epoch: 1. 13200 frames have beeen processed in total. 0 new components were added. Total # of components is 917\n",
      "Epoch: 1. 13300 frames have beeen processed in total. 0 new components were added. Total # of components is 917\n",
      "Epoch: 1. 13400 frames have beeen processed in total. 0 new components were added. Total # of components is 917\n",
      "Epoch: 1. 13500 frames have beeen processed in total. 0 new components were added. Total # of components is 917\n",
      "Epoch: 1. 13600 frames have beeen processed in total. 0 new components were added. Total # of components is 917\n",
      "Epoch: 1. 13700 frames have beeen processed in total. 0 new components were added. Total # of components is 917\n",
      "Epoch: 1. 13800 frames have beeen processed in total. 0 new components were added. Total # of components is 917\n",
      "Epoch: 1. 13900 frames have beeen processed in total. 0 new components were added. Total # of components is 917\n",
      "Epoch: 1. 14000 frames have beeen processed in total. 0 new components were added. Total # of components is 917\n",
      "Epoch: 1. 14100 frames have beeen processed in total. 0 new components were added. Total # of components is 917\n",
      "Epoch: 1. 14200 frames have beeen processed in total. 0 new components were added. Total # of components is 917\n",
      "Epoch: 1. 14300 frames have beeen processed in total. 0 new components were added. Total # of components is 917\n",
      "Epoch: 1. 14400 frames have beeen processed in total. 0 new components were added. Total # of components is 917\n",
      "Epoch: 1. 14500 frames have beeen processed in total. 0 new components were added. Total # of components is 917\n",
      "Epoch: 1. 14600 frames have beeen processed in total. 0 new components were added. Total # of components is 917\n",
      "Epoch: 1. 14700 frames have beeen processed in total. 0 new components were added. Total # of components is 917\n",
      "Epoch: 1. 14800 frames have beeen processed in total. 0 new components were added. Total # of components is 917\n",
      "Epoch: 1. 14900 frames have beeen processed in total. 0 new components were added. Total # of components is 917\n",
      "Epoch: 1. 15000 frames have beeen processed in total. 0 new components were added. Total # of components is 917\n",
      "Now processing file /Volumes/MARIANNE/1812 Critical Dynamics in Epilepsy/PL_ZFRR004_02/PTZ/ZFRR004_02_s02_P_PL03.tif\n",
      "Epoch: 1. 15100 frames have beeen processed in total. 0 new components were added. Total # of components is 917\n",
      "Epoch: 1. 15200 frames have beeen processed in total. 0 new components were added. Total # of components is 917\n",
      "Epoch: 1. 15300 frames have beeen processed in total. 0 new components were added. Total # of components is 917\n",
      "Epoch: 1. 15400 frames have beeen processed in total. 0 new components were added. Total # of components is 917\n",
      "Epoch: 1. 15500 frames have beeen processed in total. 0 new components were added. Total # of components is 917\n",
      "Epoch: 1. 15600 frames have beeen processed in total. 0 new components were added. Total # of components is 917\n",
      "Epoch: 1. 15700 frames have beeen processed in total. 0 new components were added. Total # of components is 917\n",
      "Epoch: 1. 15800 frames have beeen processed in total. 0 new components were added. Total # of components is 917\n",
      "Epoch: 1. 15900 frames have beeen processed in total. 0 new components were added. Total # of components is 917\n",
      "Epoch: 1. 16000 frames have beeen processed in total. 0 new components were added. Total # of components is 917\n",
      "Epoch: 1. 16100 frames have beeen processed in total. 0 new components were added. Total # of components is 917\n",
      "Epoch: 1. 16200 frames have beeen processed in total. 1 new components were added. Total # of components is 918\n",
      "Epoch: 1. 16300 frames have beeen processed in total. 0 new components were added. Total # of components is 918\n"
     ]
    }
   ],
   "source": [
    "for c in range(len(Pfish[f][\"Cond\"])):\n",
    "    planes = Pfish[f][\"Cond\"][c][\"Plane\"]\n",
    "    Estimates = []\n",
    "    for p in range(len(planes)):\n",
    "        fname = planes[p][\"Tpaths\"]\n",
    "        fr = 4                                                              # frame rate (Hz)\n",
    "        decay_time = 0.5                                                    # approximate length of transient event in seconds\n",
    "        gSig = (4,4)                                                        # expected half size of neurons\n",
    "        p = 1                                                               # order of AR indicator dynamics\n",
    "        min_SNR = 1                                                         # minimum SNR for accepting new components\n",
    "        rval_thr = 0.90                                                     # correlation threshold for new component inclusion\n",
    "        ds_factor = 1                                                       # spatial downsampling factor (increases speed but may lose some fine structure)\n",
    "        gnb = 2                                                             # number of background components\n",
    "        gSig = tuple(np.ceil(np.array(gSig)/ds_factor).astype('int'))       # recompute gSig if downsampling is involved\n",
    "        mot_corr = True                                                     # flag for online motion correction \n",
    "        pw_rigid = False                                                    # flag for pw-rigid motion correction (slower but potentially more accurate)\n",
    "        max_shifts_online = np.ceil(10./ds_factor).astype('int')            # maximum allowed shift during motion correction\n",
    "        sniper_mode = True                                                  # flag using a CNN to detect new neurons (o/w space correlation is used)\n",
    "        init_batch = 200                                                    # number of frames for initialization (presumably from the first file)\n",
    "        expected_comps = 500                                                # maximum number of expected components used for memory pre-allocation (exaggerate here)\n",
    "        dist_shape_update = True                                            # flag for updating shapes in a distributed way\n",
    "        min_num_trial = 10                                                  # number of candidate components per frame     \n",
    "        K = 2                                                               # initial number of components\n",
    "        epochs = 2                                                          # number of passes over the data\n",
    "        show_movie = False                                                  # show the movie with the results as the data gets processed\n",
    "\n",
    "        params_dict = {'fnames': fname,\n",
    "                       'fr': fr,\n",
    "                       'decay_time': decay_time,\n",
    "                       'gSig': gSig,\n",
    "                       'p': p,\n",
    "                       'min_SNR': min_SNR,\n",
    "                       'rval_thr': rval_thr,\n",
    "                       'ds_factor': ds_factor,\n",
    "                       'nb': gnb,\n",
    "                       'motion_correct': mot_corr,\n",
    "                       'init_batch': init_batch,\n",
    "                       'init_method': 'bare',\n",
    "                       'normalize': True,\n",
    "                       'expected_comps': expected_comps,\n",
    "                       'sniper_mode': sniper_mode,\n",
    "                       'dist_shape_update' : dist_shape_update,\n",
    "                       'min_num_trial': min_num_trial,\n",
    "                       'K': K,\n",
    "                       'epochs': epochs,\n",
    "                       'max_shifts_online': max_shifts_online,\n",
    "                       'pw_rigid': pw_rigid,\n",
    "                       'show_movie': show_movie}\n",
    "        opts = cnmf.params.CNMFParams(params_dict=params_dict)\n",
    "        clear_output()\n",
    "        print('-----------------------------------------------------------------------')\n",
    "        print('Currently processing condition ' + Pfish[f][\"Cond\"][c][\"Name\"])\n",
    "        print('> Plane ' + str(p) + ' of ' + str(len(planes)))\n",
    "        print('-----------------------------------------------------------------------')\n",
    "        cmn  = cnmf.online_cnmf.OnACID(params=opts)\n",
    "        cmn.fit_online()\n",
    "        Estimates.append({'Spatial':cnm.estimates.A,'Temporal':cnm.estimates.C,'Background':cnm.estimates.b})\n",
    "    Pfish[f][\"Cond\"][c].update({\"CMN\":Estimates})"
   ]
  },
  {
   "cell_type": "code",
   "execution_count": 253,
   "metadata": {},
   "outputs": [],
   "source": [
    "Estimates = Secure_Estimates[0:9]\n",
    "Pfish[f][\"Cond\"][0].update({\"CMN\":Estimates})"
   ]
  },
  {
   "cell_type": "code",
   "execution_count": 301,
   "metadata": {},
   "outputs": [],
   "source": [
    "# Save everyhting into folder\n",
    "#---------------------------------------------------------------------------------\n",
    "Fcmn = Fsave + os.sep + 'Analysis' + os.sep + 'CMN' + os.sep + Pfish[f][\"Name\"]\n",
    "if not os.path.exists(Fcmn): os.makedirs(Fcmn)\n",
    "    \n",
    "for c in range(len(Pfish[f][\"Cond\"])):\n",
    "    Fccond = Fcmn + os.sep + Pfish[f][\"Cond\"][c][\"Name\"]\n",
    "    if not os.path.exists(Fccond):\n",
    "        os.makedirs(Fccond)\n",
    "    for p in range(len(Pfish[f][\"Cond\"][c][\"CMN\"])):\n",
    "        scipy.io.savemat(Fccond + os.sep + Pfish[f][\"Name\"] + '_P' + str(p).zfill(2), Pfish[f][\"Cond\"][c][\"CMN\"][p])"
   ]
  }
 ],
 "metadata": {
  "kernelspec": {
   "display_name": "Python 3",
   "language": "python",
   "name": "python3"
  },
  "language_info": {
   "codemirror_mode": {
    "name": "ipython",
    "version": 3
   },
   "file_extension": ".py",
   "mimetype": "text/x-python",
   "name": "python",
   "nbconvert_exporter": "python",
   "pygments_lexer": "ipython3",
   "version": "3.6.8"
  }
 },
 "nbformat": 4,
 "nbformat_minor": 2
}
