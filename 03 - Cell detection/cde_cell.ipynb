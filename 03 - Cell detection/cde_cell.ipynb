{
 "cells": [
  {
   "cell_type": "code",
   "execution_count": 1,
   "metadata": {},
   "outputs": [],
   "source": [
    "################################################################################\n",
    "## Code adapted from demo_caiman_cnmf_3D as imported from github 21/11/2018\n",
    "## https://github.com/flatironinstitute/CaImAn\n",
    "################################################################################\n",
    "\n",
    "import cde_cell_functions as cc\n",
    "\n",
    "# Import relevant packages\n",
    "#===============================================================================\n",
    "import logging\n",
    "import matplotlib.pyplot as plt\n",
    "import numpy as np\n",
    "import os\n",
    "import psutil\n",
    "import shutil\n",
    "from scipy.ndimage.filters import gaussian_filter\n",
    "import scipy.sparse\n",
    "import sys\n",
    "import re\n",
    "from skimage.external.tifffile import imread\n",
    "from skimage import io\n",
    "import warnings \n",
    "\n",
    "# Caiman setup\n",
    "#-------------------------------------------------------------------------------\n",
    "import caiman as cm\n",
    "import caiman.source_extraction.cnmf as cnmf\n",
    "from caiman.utils.visualization import nb_view_patches3d\n",
    "from caiman.source_extraction.cnmf import params as params\n",
    "from caiman.components_evaluation import evaluate_components, estimate_components_quality_auto\n",
    "from caiman.motion_correction import MotionCorrect\n",
    "from caiman.cluster import setup_cluster\n",
    "from caiman.paths import caiman_datadir\n",
    "from caiman.utils.visualization import inspect_correlation_pnr\n",
    "\n",
    "# Jupyter specific autoreloading for external functions (in case changes are made)\n",
    "%load_ext autoreload\n",
    "%autoreload 2"
   ]
  },
  {
   "cell_type": "code",
   "execution_count": null,
   "metadata": {},
   "outputs": [],
   "source": []
  },
  {
   "cell_type": "code",
   "execution_count": 2,
   "metadata": {},
   "outputs": [],
   "source": [
    "# Housekeeping\n",
    "#===============================================================================\n",
    "# Module flags\n",
    "\n",
    "display_movie   = False      # play movie of tifs that are loaded\n",
    "save_results    = False      # flag to save results or not\n",
    "\n",
    "# Define folder locations\n",
    "#-------------------------------------------------------------------------------\n",
    "Fbase     = '/Users/roschkoenig/Dropbox/Research/1812 Critical Dynamics Epilepsy'\n",
    "Fscripts  = Fbase + os.sep + '03 - Cell detection' \n",
    "Fdata     = '/Volumes/MARIANNE/1812 Critical Dynamics in Epilepsy'\n",
    "Zfish     = cc.cde_cell_fishspec(Fdata, 'RM')"
   ]
  },
  {
   "cell_type": "code",
   "execution_count": 3,
   "metadata": {},
   "outputs": [
    {
     "data": {
      "text/plain": [
       "2"
      ]
     },
     "execution_count": 3,
     "metadata": {},
     "output_type": "execute_result"
    }
   ],
   "source": [
    "len(Zfish)"
   ]
  },
  {
   "cell_type": "code",
   "execution_count": null,
   "metadata": {},
   "outputs": [
    {
     "name": "stdout",
     "output_type": "stream",
     "text": [
      "I found 2 Conditions\n",
      "Condition BL\n",
      "> There are 9 Planes\n",
      "> Processing plane 1\n",
      "> > 0\n",
      "> > 1000\n",
      "> > 2000\n",
      "> > 3000\n",
      "> > 4000\n",
      "> > 5000\n",
      "> > 6000\n",
      "> > 7000\n",
      "> > > Saving interim file\n",
      "> Processing plane 2\n",
      "> > 0\n",
      "> > 1000\n",
      "> > 2000\n",
      "> > 3000\n",
      "> > 4000\n",
      "> > 5000\n",
      "> > 6000\n",
      "> > 7000\n",
      "> > > Saving interim file\n",
      "> Processing plane 3\n",
      "> > 0\n",
      "> > 1000\n",
      "> > 2000\n",
      "> > 3000\n",
      "> > 4000\n",
      "> > 5000\n",
      "> > 6000\n",
      "> > 7000\n",
      "> > > Saving interim file\n",
      "> Processing plane 4\n",
      "> > 0\n",
      "> > 1000\n",
      "> > 2000\n",
      "> > 3000\n",
      "> > 4000\n",
      "> > 5000\n",
      "> > 6000\n",
      "> > 7000\n",
      "> > > Saving interim file\n",
      "> Processing plane 5\n",
      "> > 0\n",
      "> > 1000\n",
      "> > 2000\n",
      "> > 3000\n",
      "> > 4000\n",
      "> > 5000\n",
      "> > 6000\n",
      "> > 7000\n",
      "> > > Saving interim file\n",
      "> Processing plane 6\n",
      "> > 0\n",
      "> > 1000\n",
      "> > 2000\n",
      "> > 3000\n",
      "> > 4000\n",
      "> > 5000\n",
      "> > 6000\n",
      "> > 7000\n",
      "> > > Saving interim file\n",
      "> Processing plane 7\n",
      "> > 0\n",
      "> > 1000\n",
      "> > 2000\n",
      "> > 3000\n",
      "> > 4000\n",
      "> > 5000\n",
      "> > 6000\n",
      "> > 7000\n",
      "> > > Saving interim file\n",
      "> Processing plane 8\n",
      "> > 0\n",
      "> > 1000\n",
      "> > 2000\n",
      "> > 3000\n",
      "> > 4000\n",
      "> > 5000\n",
      "> > 6000\n",
      "> > 7000\n",
      "> > > Saving interim file\n",
      "> Processing plane 9\n",
      "> > 0\n",
      "> > 1000\n",
      "> > 2000\n",
      "> > 3000\n",
      "> > 4000\n",
      "> > 5000\n",
      "> > 6000\n",
      "> > 7000\n",
      "> > > Saving interim file\n",
      "Condition PTZ\n",
      "> There are 9 Planes\n",
      "> Processing plane 1\n",
      "> > 0\n",
      "> > 1000\n",
      "> > 2000\n",
      "> > 3000\n",
      "> > 4000\n",
      "> > 5000\n",
      "> > 6000\n",
      "> > 7000\n",
      "> > > Saving interim file\n",
      "> > 8000\n",
      "> > 9000\n",
      "> > 10000\n",
      "> > 11000\n",
      "> > 12000\n",
      "> > 13000\n",
      "> > 14000\n",
      "> > > Saving interim file\n",
      "> > 15000\n",
      "> > 16000\n",
      "> > > Saving interim file\n",
      "> Processing plane 2\n",
      "> > 0\n",
      "> > 1000\n",
      "> > 2000\n",
      "> > 3000\n",
      "> > 4000\n",
      "> > 5000\n",
      "> > 6000\n",
      "> > 7000\n",
      "> > > Saving interim file\n",
      "> > 8000\n",
      "> > 9000\n",
      "> > 10000\n",
      "> > 11000\n",
      "> > 12000\n",
      "> > 13000\n",
      "> > 14000\n",
      "> > > Saving interim file\n",
      "> > 15000\n",
      "> > 16000\n",
      "> > > Saving interim file\n",
      "> Processing plane 3\n",
      "> > 0\n",
      "> > 1000\n",
      "> > 2000\n",
      "> > 3000\n",
      "> > 4000\n",
      "> > 5000\n",
      "> > 6000\n",
      "> > 7000\n",
      "> > > Saving interim file\n",
      "> > 8000\n",
      "> > 9000\n",
      "> > 10000\n",
      "> > 11000\n",
      "> > 12000\n",
      "> > 13000\n",
      "> > 14000\n",
      "> > > Saving interim file\n",
      "> > 15000\n",
      "> > 16000\n",
      "> > > Saving interim file\n",
      "> Processing plane 4\n",
      "> > 0\n",
      "> > 1000\n",
      "> > 2000\n",
      "> > 3000\n",
      "> > 4000\n",
      "> > 5000\n",
      "> > 6000\n",
      "> > 7000\n",
      "> > > Saving interim file\n",
      "> > 8000\n",
      "> > 9000\n",
      "> > 10000\n",
      "> > 11000\n",
      "> > 12000\n",
      "> > 13000\n",
      "> > 14000\n",
      "> > > Saving interim file\n",
      "> > 15000\n",
      "> > 16000\n",
      "> > > Saving interim file\n",
      "> Processing plane 5\n",
      "> > 0\n",
      "> > 1000\n",
      "> > 2000\n",
      "> > 3000\n",
      "> > 4000\n",
      "> > 5000\n",
      "> > 6000\n",
      "> > 7000\n",
      "> > > Saving interim file\n",
      "> > 8000\n",
      "> > 9000\n",
      "> > 10000\n",
      "> > 11000\n",
      "> > 12000\n",
      "> > 13000\n",
      "> > 14000\n",
      "> > > Saving interim file\n",
      "> > 15000\n",
      "> > 16000\n",
      "> > > Saving interim file\n",
      "> Processing plane 6\n",
      "> > 0\n",
      "> > 1000\n",
      "> > 2000\n",
      "> > 3000\n",
      "> > 4000\n",
      "> > 5000\n",
      "> > 6000\n",
      "> > 7000\n",
      "> > > Saving interim file\n",
      "> > 8000\n",
      "> > 9000\n",
      "> > 10000\n",
      "> > 11000\n",
      "> > 12000\n",
      "> > 13000\n",
      "> > 14000\n",
      "> > > Saving interim file\n",
      "> > 15000\n",
      "> > 16000\n",
      "> > > Saving interim file\n",
      "> Processing plane 7\n",
      "> > 0\n",
      "> > 1000\n",
      "> > 2000\n",
      "> > 3000\n",
      "> > 4000\n",
      "> > 5000\n",
      "> > 6000\n",
      "> > 7000\n",
      "> > > Saving interim file\n",
      "> > 8000\n",
      "> > 9000\n",
      "> > 10000\n",
      "> > 11000\n",
      "> > 12000\n",
      "> > 13000\n",
      "> > 14000\n",
      "> > > Saving interim file\n",
      "> > 15000\n",
      "> > 16000\n",
      "> > > Saving interim file\n",
      "> Processing plane 8\n",
      "> > 0\n",
      "> > 1000\n",
      "> > 2000\n",
      "> > 3000\n",
      "> > 4000\n",
      "> > 5000\n",
      "> > 6000\n",
      "> > 7000\n",
      "> > > Saving interim file\n",
      "> > 8000\n",
      "> > 9000\n",
      "> > 10000\n",
      "> > 11000\n",
      "> > 12000\n",
      "> > 13000\n",
      "> > 14000\n",
      "> > > Saving interim file\n",
      "> > 15000\n",
      "> > 16000\n",
      "> > > Saving interim file\n",
      "> Processing plane 9\n",
      "> > 0\n",
      "> > 1000\n",
      "> > 2000\n",
      "> > 3000\n",
      "> > 4000\n",
      "> > 5000\n",
      "> > 6000\n",
      "> > 7000\n",
      "> > > Saving interim file\n",
      "> > 8000\n",
      "> > 9000\n"
     ]
    }
   ],
   "source": [
    "cc.cde_cell_planesave(Fdata, Zfish[0])"
   ]
  },
  {
   "cell_type": "code",
   "execution_count": 230,
   "metadata": {},
   "outputs": [],
   "source": [
    "t = list(range(0,9000,8000))\n",
    "t.append(9000)\n",
    "t"
   ]
  },
  {
   "cell_type": "code",
   "execution_count": null,
   "metadata": {},
   "outputs": [],
   "source": [
    "## fr = 15                                                             # frame rate (Hz)\n",
    "decay_time = 0.5                                                    # approximate length of transient event in seconds\n",
    "gSig = (4,4)                                                        # expected half size of neurons\n",
    "p = 1                                                               # order of AR indicator dynamics\n",
    "min_SNR = 1                                                         # minimum SNR for accepting new components\n",
    "rval_thr = 0.90                                                     # correlation threshold for new component inclusion\n",
    "ds_factor = 1                                                       # spatial downsampling factor (increases speed but may lose some fine structure)\n",
    "gnb = 2                                                             # number of background components\n",
    "gSig = tuple(np.ceil(np.array(gSig)/ds_factor).astype('int'))       # recompute gSig if downsampling is involved\n",
    "mot_corr = True                                                     # flag for online motion correction \n",
    "pw_rigid = False                                                    # flag for pw-rigid motion correction (slower but potentially more accurate)\n",
    "max_shifts_online = np.ceil(10./ds_factor).astype('int')            # maximum allowed shift during motion correction\n",
    "sniper_mode = True                                                  # flag using a CNN to detect new neurons (o/w space correlation is used)\n",
    "init_batch = 200                                                    # number of frames for initialization (presumably from the first file)\n",
    "expected_comps = 500                                                # maximum number of expected components used for memory pre-allocation (exaggerate here)\n",
    "dist_shape_update = True                                            # flag for updating shapes in a distributed way\n",
    "min_num_trial = 10                                                  # number of candidate components per frame     \n",
    "K = 2                                                               # initial number of components\n",
    "epochs = 2                                                          # number of passes over the data\n",
    "show_movie = False                                                  # show the movie with the results as the data gets processed\n",
    "\n",
    "params_dict = {'fnames': fname,\n",
    "               'fr': fr,\n",
    "               'decay_time': decay_time,\n",
    "               'gSig': gSig,\n",
    "               'p': p,\n",
    "               'min_SNR': min_SNR,\n",
    "               'rval_thr': rval_thr,\n",
    "               'ds_factor': ds_factor,\n",
    "               'nb': gnb,\n",
    "               'motion_correct': mot_corr,\n",
    "               'init_batch': init_batch,\n",
    "               'init_method': 'bare',\n",
    "               'normalize': True,\n",
    "               'expected_comps': expected_comps,\n",
    "               'sniper_mode': sniper_mode,\n",
    "               'dist_shape_update' : dist_shape_update,\n",
    "               'min_num_trial': min_num_trial,\n",
    "               'K': K,\n",
    "               'epochs': epochs,\n",
    "               'max_shifts_online': max_shifts_online,\n",
    "               'pw_rigid': pw_rigid,\n",
    "               'show_movie': show_movie}\n",
    "opts = cnmf.params.CNMFParams(params_dict=params_dict)"
   ]
  },
  {
   "cell_type": "code",
   "execution_count": 38,
   "metadata": {},
   "outputs": [
    {
     "name": "stdout",
     "output_type": "stream",
     "text": [
      "Size frame:(60, 80)\n",
      "Noise Normalization\n",
      "Roi Extraction...\n",
      "Greedy initialization of spatial and temporal components using spatial Gaussian filtering\n",
      "USING TOTAL SUM FOR INITIALIZATION....\n"
     ]
    },
    {
     "name": "stderr",
     "output_type": "stream",
     "text": [
      "/Users/roschkoenig/anaconda3/lib/python3.6/site-packages/caiman/source_extraction/cnmf/initialization.py:635: FutureWarning: Using a non-tuple sequence for multidimensional indexing is deprecated; use `arr[tuple(seq)]` instead of `arr[seq]`. In the future this will be interpreted as an array index, `arr[np.array(seq)]`, which will result either in an error or a different result.\n",
      "  Y[[slice(*a) for a in ijSig]].copy(), dtype=np.float32)\n",
      "/Users/roschkoenig/anaconda3/lib/python3.6/site-packages/caiman/source_extraction/cnmf/initialization.py:650: FutureWarning: Using a non-tuple sequence for multidimensional indexing is deprecated; use `arr[tuple(seq)]` instead of `arr[seq]`. In the future this will be interpreted as an array index, `arr[np.array(seq)]`, which will result either in an error or a different result.\n",
      "  Y[[slice(*a) for a in ijSig]] -= dataSig.copy()\n",
      "/Users/roschkoenig/anaconda3/lib/python3.6/site-packages/caiman/source_extraction/cnmf/initialization.py:657: FutureWarning: Using a non-tuple sequence for multidimensional indexing is deprecated; use `arr[tuple(seq)]` instead of `arr[seq]`. In the future this will be interpreted as an array index, `arr[np.array(seq)]`, which will result either in an error or a different result.\n",
      "  dataTemp[[slice(*a) for a in Lag]] = coef\n",
      "/Users/roschkoenig/anaconda3/lib/python3.6/site-packages/caiman/source_extraction/cnmf/initialization.py:661: FutureWarning: Using a non-tuple sequence for multidimensional indexing is deprecated; use `arr[tuple(seq)]` instead of `arr[seq]`. In the future this will be interpreted as an array index, `arr[np.array(seq)]`, which will result either in an error or a different result.\n",
      "  rho[[slice(*a) for a in Mod]] -= temp.copy()\n",
      "/Users/roschkoenig/anaconda3/lib/python3.6/site-packages/caiman/source_extraction/cnmf/initialization.py:668: FutureWarning: Using a non-tuple sequence for multidimensional indexing is deprecated; use `arr[tuple(seq)]` instead of `arr[seq]`. In the future this will be interpreted as an array index, `arr[np.array(seq)]`, which will result either in an error or a different result.\n",
      "  for a in Mod]]**2, axis=-1)\n"
     ]
    },
    {
     "name": "stdout",
     "output_type": "stream",
     "text": [
      "(Hals) Refining Components...\n",
      "Expecting 500 components\n"
     ]
    },
    {
     "name": "stderr",
     "output_type": "stream",
     "text": [
      "Using TensorFlow backend.\n"
     ]
    },
    {
     "name": "stdout",
     "output_type": "stream",
     "text": [
      "Now processing file /Users/roschkoenig/caiman_data/example_movies/demoMovie.tif\n",
      "Epoch: 1. 200 frames have beeen processed in total. 0 new components were added. Total # of components is 2\n",
      "Epoch: 1. 300 frames have beeen processed in total. 6 new components were added. Total # of components is 8\n",
      "Epoch: 1. 400 frames have beeen processed in total. 10 new components were added. Total # of components is 18\n",
      "Epoch: 1. 500 frames have beeen processed in total. 4 new components were added. Total # of components is 22\n",
      "Epoch: 1. 600 frames have beeen processed in total. 8 new components were added. Total # of components is 30\n",
      "Epoch: 1. 700 frames have beeen processed in total. 11 new components were added. Total # of components is 41\n",
      "Epoch: 1. 800 frames have beeen processed in total. 6 new components were added. Total # of components is 47\n",
      "Epoch: 1. 900 frames have beeen processed in total. 0 new components were added. Total # of components is 47\n",
      "Epoch: 1. 1000 frames have beeen processed in total. 1 new components were added. Total # of components is 48\n",
      "Epoch: 1. 1100 frames have beeen processed in total. 6 new components were added. Total # of components is 54\n",
      "Epoch: 1. 1200 frames have beeen processed in total. 2 new components were added. Total # of components is 56\n",
      "Epoch: 1. 1300 frames have beeen processed in total. 2 new components were added. Total # of components is 58\n",
      "Epoch: 1. 1400 frames have beeen processed in total. 5 new components were added. Total # of components is 63\n",
      "Epoch: 1. 1500 frames have beeen processed in total. 6 new components were added. Total # of components is 69\n",
      "Epoch: 1. 1600 frames have beeen processed in total. 1 new components were added. Total # of components is 70\n",
      "Epoch: 1. 1700 frames have beeen processed in total. 3 new components were added. Total # of components is 73\n",
      "Epoch: 1. 1800 frames have beeen processed in total. 2 new components were added. Total # of components is 75\n",
      "Epoch: 1. 1900 frames have beeen processed in total. 0 new components were added. Total # of components is 75\n",
      "Now processing file /Users/roschkoenig/caiman_data/example_movies/demoMovie.tif\n",
      "Epoch: 2. 2000 frames have beeen processed in total. 0 new components were added. Total # of components is 76\n",
      "Epoch: 2. 2100 frames have beeen processed in total. 3 new components were added. Total # of components is 79\n",
      "Epoch: 2. 2200 frames have beeen processed in total. 2 new components were added. Total # of components is 81\n",
      "Epoch: 2. 2300 frames have beeen processed in total. 0 new components were added. Total # of components is 81\n",
      "Epoch: 2. 2400 frames have beeen processed in total. 0 new components were added. Total # of components is 81\n",
      "Epoch: 2. 2500 frames have beeen processed in total. 1 new components were added. Total # of components is 82\n",
      "Epoch: 2. 2600 frames have beeen processed in total. 3 new components were added. Total # of components is 85\n",
      "Epoch: 2. 2700 frames have beeen processed in total. 0 new components were added. Total # of components is 85\n",
      "Epoch: 2. 2800 frames have beeen processed in total. 1 new components were added. Total # of components is 86\n",
      "Epoch: 2. 2900 frames have beeen processed in total. 3 new components were added. Total # of components is 89\n",
      "Epoch: 2. 3000 frames have beeen processed in total. 2 new components were added. Total # of components is 91\n",
      "Epoch: 2. 3100 frames have beeen processed in total. 0 new components were added. Total # of components is 91\n",
      "Epoch: 2. 3200 frames have beeen processed in total. 2 new components were added. Total # of components is 93\n",
      "Epoch: 2. 3300 frames have beeen processed in total. 1 new components were added. Total # of components is 94\n",
      "Epoch: 2. 3400 frames have beeen processed in total. 1 new components were added. Total # of components is 95\n",
      "Epoch: 2. 3500 frames have beeen processed in total. 1 new components were added. Total # of components is 96\n",
      "Epoch: 2. 3600 frames have beeen processed in total. 2 new components were added. Total # of components is 98\n",
      "Epoch: 2. 3700 frames have beeen processed in total. 1 new components were added. Total # of components is 99\n",
      "Epoch: 2. 3800 frames have beeen processed in total. 1 new components were added. Total # of components is 100\n",
      "Epoch: 2. 3900 frames have beeen processed in total. 1 new components were added. Total # of components is 101\n"
     ]
    },
    {
     "data": {
      "text/plain": [
       "<caiman.source_extraction.cnmf.online_cnmf.OnACID at 0x1258f2e80>"
      ]
     },
     "execution_count": 38,
     "metadata": {},
     "output_type": "execute_result"
    }
   ],
   "source": [
    "cnm = cnmf.online_cnmf.OnACID(params=opts)\n",
    "cnm.fit_online()"
   ]
  },
  {
   "cell_type": "code",
   "execution_count": 39,
   "metadata": {},
   "outputs": [
    {
     "data": {
      "text/plain": [
       "['/Users/roschkoenig/caiman_data/example_movies/demoMovie.tif']"
      ]
     },
     "execution_count": 39,
     "metadata": {},
     "output_type": "execute_result"
    }
   ],
   "source": [
    "fname"
   ]
  },
  {
   "cell_type": "code",
   "execution_count": 30,
   "metadata": {},
   "outputs": [],
   "source": [
    "%%capture \n",
    "\n",
    "# Segmentation parameter settings\n",
    "#===============================================================================\n",
    "# Start a cluster for parallel processing (if a cluster already exists it will be closed and a new session will be opened)\n",
    "if 'dview' in locals():\n",
    "    cm.stop_server(dview=dview)\n",
    "c, dview, n_processes = cm.cluster.setup_cluster(\n",
    "    backend='local', n_processes=None, single_thread=False)\n",
    "\n",
    "# Set Parameters (taken from standard demo)\n",
    "#-------------------------------------------------------------------------------\n",
    "# Dataset dependent parameters\n",
    "#-------------------------------------------------------------------------------\n",
    "fr          = 4                     # imaging rate in frames per seconds\n",
    "decay_time  = .4                    # length of a typical transient in seconds\n",
    "\n",
    "# Motion correction parameters\n",
    "#-------------------------------------------------------------------------------\n",
    "strides = (96, 96)          # start a new patch for pw-rigid motion correction every x pixels\n",
    "overlaps = (24, 24)         # overlap between pathes (size of patch strides+overlaps)\n",
    "max_shifts = (6,6)          # maximum allowed rigid shifts (in pixels)\n",
    "max_deviation_rigid = 3     # maximum shifts deviation allowed for patch with respect to rigid shifts\n",
    "pw_rigid = True             # flag for performing non-rigid motion correction\n",
    "\n",
    "\n",
    "# Parameters for source extraction and deconvolution\n",
    "#-------------------------------------------------------------------------------\n",
    "p = 1                       # order of the autoregressive system\n",
    "gnb = 0                     # number of global background components\n",
    "nb_patch = 0                # number of bg comps per patch if gnb > 0\n",
    "merge_thresh = 0.7          # merging threshold, max correlation allowed\n",
    "rf = 40                     # half-size of the patches in pixels. e.g., if rf=25, patches are 50x50\n",
    "stride_cnmf = 10            # am ount of overlap between the patches in pixels\n",
    "K = None                    # number of components per patch\n",
    "gSig = (.5,.5)              # expected half size of neurons in pixels\n",
    "gSiz = (2,2)\n",
    "Ain  = None                 # Can seed with pre-determined binary mask here\n",
    "method_init = 'corr_pnr'    # initialization method (if analyzing dendritic data using 'sparse_nmf')\n",
    "ssub = 1                    # spatial subsampling during initialization\n",
    "tsub = 3                    # temporal subsampling during intialization\n",
    "low_rank_background = None  # None leaves backgroiund of each patch intact, true performs global low-rank approx if gnb > 0\n",
    "min_corr = 0                # min peak value from correlation image\n",
    "min_pnr = 5                 # min peak to bnoise ration from PNR image\n",
    "ssub_B = 2                  # additional downsampling factor in space for backgrouund\n",
    "ring_size_factor = 1.2      # radius of ring is gSiz * ring_size_factor\n",
    "\n",
    "# Parameters for component evaluation\n",
    "#-------------------------------------------------------------------------------\n",
    "min_SNR = 2.0               # signal to noise ratio for accepting a component\n",
    "rval_thr = 0.85             # space correlation threshold for accepting a component\n",
    "cnn_thr = 0.99              # threshold for CNN based classifier\n",
    "cnn_lowest = 0.1            # neurons with cnn probability lower than this value are rejected\n",
    "\n",
    "# Create parameters dictionary\n",
    "#-------------------------------------------------------------------------------\n",
    "opts_dict = {'method_init': method_init,\n",
    "            'K': K,\n",
    "            'gSig' : gSig,\n",
    "            'gSiz' : gSiz,\n",
    "            'merge_thresh': merge_thresh,\n",
    "            'p': p,\n",
    "            'ssub': ssub,\n",
    "            'tsub': tsub,\n",
    "            'rf': rf,\n",
    "            'strides': strides,\n",
    "            'only_init': True,\n",
    "            'nb': gnb,\n",
    "            'nb_patch': nb_patch,\n",
    "            'method_deconvolution': 'oasis',\n",
    "            'low_rank_background': low_rank_background,\n",
    "            'update_background_components': True,\n",
    "            'min_corr': min_corr,\n",
    "            'min_pnr': min_pnr,\n",
    "            'normalize_init': False,\n",
    "            'center_psf': True,\n",
    "            'ssub_B': ssub_B,\n",
    "            'ring_size_factor': ring_size_factor,\n",
    "            'del_duplicates': True,\n",
    "            'fnames': tifs,\n",
    "            'decay_time': decay_time,\n",
    "            'border_pix': 10,\n",
    "            'overlaps': overlaps,\n",
    "            'max_shifts': max_shifts,\n",
    "            'max_deviation_rigid': max_deviation_rigid,\n",
    "            'pw_rigid': pw_rigid,\n",
    "            'stride': stride_cnmf,\n",
    "            'rolling_sum': True,\n",
    "            'min_SNR': min_SNR,\n",
    "            'rval_thr': rval_thr,\n",
    "            'use_cnn': True,\n",
    "            'min_cnn_thr': cnn_thr,\n",
    "            'cnn_lowest': cnn_lowest}\n",
    "\n",
    "opts = params.CNMFParams(params_dict=opts_dict)"
   ]
  },
  {
   "cell_type": "code",
   "execution_count": null,
   "metadata": {},
   "outputs": [],
   "source": []
  },
  {
   "cell_type": "code",
   "execution_count": 31,
   "metadata": {},
   "outputs": [],
   "source": [
    "%%capture\n",
    "# Memory Mapping\n",
    "#------------------------------------------------------------------------------\n",
    "mapfile     = cm.save_memmap(tifs, base_name='memmap_', order='f', is_3D=True)\n",
    "Yr,dims,T   = cm.load_memmap(mapfile)\n",
    "images      = np.reshape(Yr.T, [T]+list(dims), order = 'F')"
   ]
  },
  {
   "cell_type": "code",
   "execution_count": 32,
   "metadata": {},
   "outputs": [
    {
     "data": {
      "text/plain": [
       "(298, 451)"
      ]
     },
     "execution_count": 32,
     "metadata": {},
     "output_type": "execute_result"
    }
   ],
   "source": [
    "dims"
   ]
  },
  {
   "cell_type": "code",
   "execution_count": 13,
   "metadata": {},
   "outputs": [
    {
     "data": {
      "image/png": "[encoded data removed]",
      "text/plain": [
       "<Figure size 720x288 with 8 Axes>"
      ]
     },
     "metadata": {
      "needs_background": "light"
     },
     "output_type": "display_data"
    }
   ],
   "source": [
    "# compute some summary images (correlation and peak to noise)\n",
    "#-------------------------------------------------------------------------------\n",
    "cn_filter, pnr = cm.summary_images.correlation_pnr(images, gSig=gSig[0], swap_dim=False) # change swap dim if output looks weird, it is a problem with tiffile\n",
    "# inspect the summary images and set the parameters\n",
    "inspect_correlation_pnr(cn_filter, pnr)"
   ]
  },
  {
   "cell_type": "code",
   "execution_count": null,
   "metadata": {},
   "outputs": [],
   "source": []
  },
  {
   "cell_type": "code",
   "execution_count": 14,
   "metadata": {},
   "outputs": [
    {
     "name": "stdout",
     "output_type": "stream",
     "text": [
      "(80, 80)\n",
      "46.587740898132324\n",
      "Transforming patches into full matrix\n",
      "Skipped %d Empty Patch 0\n",
      "Generating background\n",
      "Generating background DONE\n",
      "merging\n"
     ]
    },
    {
     "name": "stderr",
     "output_type": "stream",
     "text": [
      "/Users/roschkoenig/anaconda3/lib/python3.6/site-packages/caiman/source_extraction/cnmf/map_reduce.py:407: RuntimeWarning: divide by zero encountered in true_divide\n",
      "  (1. / mask, (np.arange(d), np.arange(d))), dtype=np.float32)\n",
      "/Users/roschkoenig/anaconda3/lib/python3.6/site-packages/scipy/sparse/compressed.py:746: SparseEfficiencyWarning: Changing the sparsity structure of a csc_matrix is expensive. lil_matrix is more efficient.\n",
      "  SparseEfficiencyWarning)\n"
     ]
    },
    {
     "name": "stdout",
     "output_type": "stream",
     "text": [
      "[178 179]\n",
      "[ 97 161]\n",
      "[173 183]\n"
     ]
    },
    {
     "name": "stderr",
     "output_type": "stream",
     "text": [
      "/Users/roschkoenig/anaconda3/lib/python3.6/site-packages/caiman/source_extraction/cnmf/deconvolution.py:991: FutureWarning: `rcond` parameter will change to the default of machine precision times ``max(M, N)`` where M and N are the input matrix dimensions.\n",
      "To use the future default and silence this warning we advise to pass `rcond=None`, to keep using the old, explicitly pass `rcond=-1`.\n",
      "  g = np.linalg.lstsq(A, xc[lags + 1:])[0]\n",
      "/Users/roschkoenig/anaconda3/lib/python3.6/site-packages/scipy/stats/stats.py:3010: RuntimeWarning: invalid value encountered in double_scalars\n",
      "  r = r_num / r_den\n",
      "/Users/roschkoenig/anaconda3/lib/python3.6/site-packages/scipy/sparse/compressed.py:202: RuntimeWarning: invalid value encountered in greater\n",
      "  res = self._with_data(op(self.data, other), copy=True)\n"
     ]
    },
    {
     "name": "stdout",
     "output_type": "stream",
     "text": [
      "No neurons merged!\n"
     ]
    },
    {
     "ename": "ValueError",
     "evalue": "operands could not be broadcast together with shapes (229,3992) (230,3992) ",
     "output_type": "error",
     "traceback": [
      "\u001b[0;31m---------------------------------------------------------------------------\u001b[0m",
      "\u001b[0;31mValueError\u001b[0m                                Traceback (most recent call last)",
      "\u001b[0;32m<ipython-input-14-e3563924d2f7>\u001b[0m in \u001b[0;36m<module>\u001b[0;34m\u001b[0m\n\u001b[1;32m      9\u001b[0m \u001b[0;31m#===============================================================================\u001b[0m\u001b[0;34m\u001b[0m\u001b[0;34m\u001b[0m\u001b[0;34m\u001b[0m\u001b[0m\n\u001b[1;32m     10\u001b[0m \u001b[0mcnm\u001b[0m \u001b[0;34m=\u001b[0m \u001b[0mcnmf\u001b[0m\u001b[0;34m.\u001b[0m\u001b[0mCNMF\u001b[0m\u001b[0;34m(\u001b[0m\u001b[0mn_processes\u001b[0m\u001b[0;34m,\u001b[0m \u001b[0mparams\u001b[0m\u001b[0;34m=\u001b[0m\u001b[0mopts\u001b[0m\u001b[0;34m,\u001b[0m \u001b[0mdview\u001b[0m\u001b[0;34m=\u001b[0m\u001b[0mdview\u001b[0m\u001b[0;34m,\u001b[0m \u001b[0mAin\u001b[0m\u001b[0;34m=\u001b[0m\u001b[0mAin\u001b[0m\u001b[0;34m)\u001b[0m\u001b[0;34m\u001b[0m\u001b[0;34m\u001b[0m\u001b[0m\n\u001b[0;32m---> 11\u001b[0;31m \u001b[0mcnm\u001b[0m \u001b[0;34m=\u001b[0m \u001b[0mcnm\u001b[0m\u001b[0;34m.\u001b[0m\u001b[0mfit\u001b[0m\u001b[0;34m(\u001b[0m\u001b[0mimages\u001b[0m\u001b[0;34m)\u001b[0m\u001b[0;34m\u001b[0m\u001b[0;34m\u001b[0m\u001b[0m\n\u001b[0m",
      "\u001b[0;32m~/anaconda3/lib/python3.6/site-packages/caiman/source_extraction/cnmf/cnmf.py\u001b[0m in \u001b[0;36mfit\u001b[0;34m(self, images, indeces)\u001b[0m\n\u001b[1;32m    579\u001b[0m                             ssub=self.params.get('init', 'ssub_B'))\n\u001b[1;32m    580\u001b[0m                     \u001b[0;32mif\u001b[0m \u001b[0mlen\u001b[0m\u001b[0;34m(\u001b[0m\u001b[0mself\u001b[0m\u001b[0;34m.\u001b[0m\u001b[0mestimates\u001b[0m\u001b[0;34m.\u001b[0m\u001b[0mC\u001b[0m\u001b[0;34m)\u001b[0m\u001b[0;34m:\u001b[0m\u001b[0;34m\u001b[0m\u001b[0;34m\u001b[0m\u001b[0m\n\u001b[0;32m--> 581\u001b[0;31m                         \u001b[0mself\u001b[0m\u001b[0;34m.\u001b[0m\u001b[0mdeconvolve\u001b[0m\u001b[0;34m(\u001b[0m\u001b[0;34m)\u001b[0m\u001b[0;34m\u001b[0m\u001b[0;34m\u001b[0m\u001b[0m\n\u001b[0m\u001b[1;32m    582\u001b[0m                     \u001b[0;32melse\u001b[0m\u001b[0;34m:\u001b[0m\u001b[0;34m\u001b[0m\u001b[0;34m\u001b[0m\u001b[0m\n\u001b[1;32m    583\u001b[0m                         \u001b[0mself\u001b[0m\u001b[0;34m.\u001b[0m\u001b[0mestimates\u001b[0m\u001b[0;34m.\u001b[0m\u001b[0mS\u001b[0m \u001b[0;34m=\u001b[0m \u001b[0mself\u001b[0m\u001b[0;34m.\u001b[0m\u001b[0mestimates\u001b[0m\u001b[0;34m.\u001b[0m\u001b[0mC\u001b[0m\u001b[0;34m\u001b[0m\u001b[0;34m\u001b[0m\u001b[0m\n",
      "\u001b[0;32m~/anaconda3/lib/python3.6/site-packages/caiman/source_extraction/cnmf/cnmf.py\u001b[0m in \u001b[0;36mdeconvolve\u001b[0;34m(self, p, method_deconvolution, bas_nonneg, noise_method, optimize_g, s_min, **kwargs)\u001b[0m\n\u001b[1;32m    675\u001b[0m         \u001b[0ms_min\u001b[0m \u001b[0;34m=\u001b[0m \u001b[0mself\u001b[0m\u001b[0;34m.\u001b[0m\u001b[0mparams\u001b[0m\u001b[0;34m.\u001b[0m\u001b[0mget\u001b[0m\u001b[0;34m(\u001b[0m\u001b[0;34m'temporal'\u001b[0m\u001b[0;34m,\u001b[0m \u001b[0;34m's_min'\u001b[0m\u001b[0;34m)\u001b[0m \u001b[0;32mif\u001b[0m \u001b[0ms_min\u001b[0m \u001b[0;32mis\u001b[0m \u001b[0;32mNone\u001b[0m \u001b[0;32melse\u001b[0m \u001b[0ms_min\u001b[0m\u001b[0;34m\u001b[0m\u001b[0;34m\u001b[0m\u001b[0m\n\u001b[1;32m    676\u001b[0m \u001b[0;34m\u001b[0m\u001b[0m\n\u001b[0;32m--> 677\u001b[0;31m         \u001b[0mF\u001b[0m \u001b[0;34m=\u001b[0m \u001b[0mself\u001b[0m\u001b[0;34m.\u001b[0m\u001b[0mestimates\u001b[0m\u001b[0;34m.\u001b[0m\u001b[0mC\u001b[0m \u001b[0;34m+\u001b[0m \u001b[0mself\u001b[0m\u001b[0;34m.\u001b[0m\u001b[0mestimates\u001b[0m\u001b[0;34m.\u001b[0m\u001b[0mYrA\u001b[0m\u001b[0;34m\u001b[0m\u001b[0;34m\u001b[0m\u001b[0m\n\u001b[0m\u001b[1;32m    678\u001b[0m         \u001b[0margs\u001b[0m \u001b[0;34m=\u001b[0m \u001b[0mdict\u001b[0m\u001b[0;34m(\u001b[0m\u001b[0;34m)\u001b[0m\u001b[0;34m\u001b[0m\u001b[0;34m\u001b[0m\u001b[0m\n\u001b[1;32m    679\u001b[0m         \u001b[0margs\u001b[0m\u001b[0;34m[\u001b[0m\u001b[0;34m'p'\u001b[0m\u001b[0;34m]\u001b[0m \u001b[0;34m=\u001b[0m \u001b[0mp\u001b[0m\u001b[0;34m\u001b[0m\u001b[0;34m\u001b[0m\u001b[0m\n",
      "\u001b[0;31mValueError\u001b[0m: operands could not be broadcast together with shapes (229,3992) (230,3992) "
     ]
    }
   ],
   "source": [
    "# Restart cluster to clean up memory\n",
    "#-------------------------------------------------------------------------------\n",
    "cm.stop_server(dview=dview)\n",
    "c, dview, n_processes = cm.cluster.setup_cluster(\n",
    "    backend='local', n_processes=None, single_thread=False)\n",
    "\n",
    "#===============================================================================\n",
    "# Run the actual Segmentation\n",
    "#===============================================================================\n",
    "cnm = cnmf.CNMF(n_processes, params=opts, dview=dview, Ain=Ain)\n",
    "cnm = cnm.fit(images)"
   ]
  },
  {
   "cell_type": "code",
   "execution_count": 48,
   "metadata": {},
   "outputs": [
    {
     "data": {
      "text/plain": [
       "<caiman.source_extraction.cnmf.estimates.Estimates at 0x12d860630>"
      ]
     },
     "execution_count": 48,
     "metadata": {},
     "output_type": "execute_result"
    }
   ],
   "source": [
    "# Plot contours of found components\n",
    "#-------------------------------------------------------------------------------\n",
    "Cn = cm.local_correlations(images.transpose(1,2,0))\n",
    "Cn[np.isnan(Cn)] = 0\n",
    "cnm.estimates.plot_contours_nb(img=Cn)"
   ]
  },
  {
   "cell_type": "code",
   "execution_count": 24,
   "metadata": {},
   "outputs": [
    {
     "data": {
      "text/plain": [
       "(3992, 298, 451)"
      ]
     },
     "execution_count": 24,
     "metadata": {},
     "output_type": "execute_result"
    }
   ],
   "source": []
  },
  {
   "cell_type": "code",
   "execution_count": 19,
   "metadata": {},
   "outputs": [
    {
     "name": "stderr",
     "output_type": "stream",
     "text": [
      "/Users/roschkoenig/anaconda3/lib/python3.6/site-packages/caiman/components_evaluation.py:704: RuntimeWarning: invalid value encountered in greater_equal\n",
      "  idx_components_r = np.where(np.array(r_values) >= r_values_min)[0]     # threshold on space consistency\n",
      "/Users/roschkoenig/anaconda3/lib/python3.6/site-packages/caiman/components_evaluation.py:556: RuntimeWarning: invalid value encountered in greater_equal\n",
      "  idx_components_r = np.where(r_values >= r_values_min)[0]\n",
      "/Users/roschkoenig/anaconda3/lib/python3.6/site-packages/caiman/components_evaluation.py:580: RuntimeWarning: invalid value encountered in less_equal\n",
      "  bad_comps = np.where((r_values <= r_values_lowest) | (\n"
     ]
    },
    {
     "name": "stdout",
     "output_type": "stream",
     "text": [
      " ***** \n",
      "Number of total components:  31\n",
      "Number of accepted components:  4\n"
     ]
    },
    {
     "data": {
      "text/plain": [
       "<caiman.source_extraction.cnmf.estimates.Estimates at 0x120c3c208>"
      ]
     },
     "execution_count": 19,
     "metadata": {},
     "output_type": "execute_result"
    }
   ],
   "source": [
    "#%% COMPONENT EVALUATION\n",
    "#-------------------------------------------------------------------------------\n",
    "# the components are evaluated in three ways:\n",
    "#   a) the shape of each component must be correlated with the data\n",
    "#   b) a minimum peak SNR is required over the length of a transient\n",
    "#   c) each shape passes a CNN based classifier - this doesn't currently work in this implementation\n",
    "\n",
    "min_SNR = 3            # adaptive way to set threshold on the transient size\n",
    "r_values_min = 0.85    # threshold on space consistency (if you lower more components\n",
    "#                        will be accepted, potentially with worst quality)\n",
    "cnm.params.set('quality', {'min_SNR': min_SNR,\n",
    "                           'rval_thr': r_values_min,\n",
    "                           'use_cnn': False})\n",
    "cnm.estimates.evaluate_components(images, cnm.params, dview=dview)\n",
    "\n",
    "print(' ***** ')\n",
    "print('Number of total components: ', len(cnm.estimates.C))\n",
    "print('Number of accepted components: ', len(cnm.estimates.idx_components))\n",
    "\n",
    "#%% PLOT COMPONENTS\n",
    "#-------------------------------------------------------------------------------\n",
    "cnm.estimates.plot_contours_nb(img=Cn, idx=cnm.estimates.idx_components)\n",
    "\n"
   ]
  },
  {
   "cell_type": "code",
   "execution_count": null,
   "metadata": {},
   "outputs": [],
   "source": []
  }
 ],
 "metadata": {
  "kernelspec": {
   "display_name": "Python 3",
   "language": "python",
   "name": "python3"
  },
  "language_info": {
   "codemirror_mode": {
    "name": "ipython",
    "version": 3
   },
   "file_extension": ".py",
   "mimetype": "text/x-python",
   "name": "python",
   "nbconvert_exporter": "python",
   "pygments_lexer": "ipython3",
   "version": "3.6.8"
  }
 },
 "nbformat": 4,
 "nbformat_minor": 2
}
